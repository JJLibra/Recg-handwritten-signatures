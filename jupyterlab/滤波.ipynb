{
 "cells": [
  {
   "cell_type": "code",
   "execution_count": 16,
   "id": "a18afe35-d881-46dd-8a99-82da387bbe8e",
   "metadata": {},
   "outputs": [],
   "source": [
    "import os\n",
    "import numpy as np\n",
    "import matplotlib.pyplot as plt\n",
    "from pydub import AudioSegment\n",
    "from scipy.io import wavfile\n",
    "from scipy.signal import butter, lfilter\n",
    "\n",
    "def butter_lowpass(cutoff, fs, order=5):\n",
    "    nyq = 0.5 * fs\n",
    "    normal_cutoff = cutoff / nyq\n",
    "    b, a = butter(order, normal_cutoff, btype='low', analog=False)\n",
    "    return b, a\n",
    "\n",
    "def butter_lowpass_filter(data, cutoff, fs, order=5):\n",
    "    b, a = butter_lowpass(cutoff, fs, order=order)\n",
    "    y = lfilter(b, a, data)\n",
    "    return y\n",
    "\n",
    "# 设置滤波器参数\n",
    "order = 6\n",
    "cutoff = 1200  # 滤波器截止频率，单位Hz\n",
    "\n",
    "# 遍历文件夹中的所有WAV文件\n",
    "input_folder = 'test/xuzhaoqi'\n",
    "output_folder = 'test/xuzhaoqi/filtered'\n",
    "for filename in os.listdir(input_folder):\n",
    "    if filename.endswith(\".wav\"):\n",
    "        input_filepath = os.path.join(input_folder, filename)\n",
    "        output_filepath = os.path.join(output_folder, filename)\n",
    "\n",
    "        # 读取音频数据\n",
    "        samplerate, data = wavfile.read(input_filepath)\n",
    "\n",
    "        # 应用滤波器\n",
    "        filtered_data = butter_lowpass_filter(data, cutoff, samplerate, order)\n",
    "\n",
    "        # 保存滤波后的音频数据到新的WAV文件\n",
    "        wavfile.write(output_filepath, samplerate, filtered_data.astype(np.int16))"
   ]
  },
  {
   "cell_type": "code",
   "execution_count": 7,
   "id": "9c18c073-39c3-42c3-b056-524b6b8dce22",
   "metadata": {},
   "outputs": [],
   "source": []
  },
  {
   "cell_type": "code",
   "execution_count": null,
   "id": "5dec10c1-c234-40a1-97da-b92e2d00c2ad",
   "metadata": {},
   "outputs": [],
   "source": []
  }
 ],
 "metadata": {
  "kernelspec": {
   "display_name": "py38kernel",
   "language": "python",
   "name": "py38-kernel"
  },
  "language_info": {
   "codemirror_mode": {
    "name": "ipython",
    "version": 3
   },
   "file_extension": ".py",
   "mimetype": "text/x-python",
   "name": "python",
   "nbconvert_exporter": "python",
   "pygments_lexer": "ipython3",
   "version": "3.8.18"
  }
 },
 "nbformat": 4,
 "nbformat_minor": 5
}
