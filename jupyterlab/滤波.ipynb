{
 "cells": [
  {
   "cell_type": "markdown",
   "id": "ac983988-13e2-4ea4-9a4c-4386154ddc74",
   "metadata": {},
   "source": [
    "## 音频预处理"
   ]
  },
  {
   "cell_type": "markdown",
   "id": "73c46da6-e435-46ce-bad5-54ce1b577e9f",
   "metadata": {},
   "source": [
    "### 巴特沃斯滤波"
   ]
  },
  {
   "cell_type": "markdown",
   "id": "f9ff2182-8eb6-4dee-b128-40e9fd253c32",
   "metadata": {},
   "source": [
    "#### 单音频操作"
   ]
  },
  {
   "cell_type": "code",
   "execution_count": 12,
   "id": "524649ea-57b2-469c-a77e-a0c6f1a9ef5b",
   "metadata": {},
   "outputs": [],
   "source": [
    "import os\n",
    "import numpy as np\n",
    "import matplotlib.pyplot as plt\n",
    "from pydub import AudioSegment\n",
    "from scipy.io import wavfile\n",
    "from scipy.signal import butter, lfilter\n",
    "# 读入音频文件\n",
    "samplerate, data = wavfile.read('first_collection/240330/chence2.wav')"
   ]
  },
  {
   "cell_type": "code",
   "execution_count": 13,
   "id": "2164990b-61af-4131-a3fd-2029f1f5ac73",
   "metadata": {},
   "outputs": [],
   "source": [
    "# 巴特沃斯滤波函数\n",
    "def butter_lowpass(cutoff, fs, order=5):\n",
    "    nyq = 0.5 * fs\n",
    "    normal_cutoff = cutoff / nyq\n",
    "    b, a = butter(order, normal_cutoff, btype='low', analog=False)\n",
    "    return b, a\n",
    "def butter_lowpass_filter(data, cutoff, fs, order=5):\n",
    "    b, a = butter_lowpass(cutoff, fs, order=order)\n",
    "    y = lfilter(b, a, data)\n",
    "    return y"
   ]
  },
  {
   "cell_type": "code",
   "execution_count": 14,
   "id": "86a36294-ac1b-4184-980c-33f67a8243b7",
   "metadata": {},
   "outputs": [],
   "source": [
    "# 参数\n",
    "order = 6\n",
    "cutoff = 1200  # 截止频率\n",
    "filtered_data = butter_lowpass_filter(data, cutoff, samplerate, order)\n",
    "wavfile.write('first_collection/240330/filtered_chence2.wav', samplerate, filtered_data.astype(np.int16))"
   ]
  },
  {
   "cell_type": "markdown",
   "id": "1936d243-cb2b-462a-a652-9515bb6e6b37",
   "metadata": {},
   "source": [
    "#### 批量操作"
   ]
  },
  {
   "cell_type": "code",
   "execution_count": 16,
   "id": "a18afe35-d881-46dd-8a99-82da387bbe8e",
   "metadata": {},
   "outputs": [],
   "source": [
    "import os\n",
    "import numpy as np\n",
    "import matplotlib.pyplot as plt\n",
    "from pydub import AudioSegment\n",
    "from scipy.io import wavfile\n",
    "from scipy.signal import butter, lfilter\n",
    "\n",
    "def butter_lowpass(cutoff, fs, order=5):\n",
    "    nyq = 0.5 * fs\n",
    "    normal_cutoff = cutoff / nyq\n",
    "    b, a = butter(order, normal_cutoff, btype='low', analog=False)\n",
    "    return b, a\n",
    "\n",
    "def butter_lowpass_filter(data, cutoff, fs, order=5):\n",
    "    b, a = butter_lowpass(cutoff, fs, order=order)\n",
    "    y = lfilter(b, a, data)\n",
    "    return y\n",
    "\n",
    "# 设置滤波器参数\n",
    "order = 6\n",
    "cutoff = 1200  # 滤波器截止频率，单位Hz\n",
    "\n",
    "# 遍历文件夹中的所有WAV文件\n",
    "input_folder = 'test/xuzhaoqi'\n",
    "output_folder = 'test/xuzhaoqi/filtered'\n",
    "for filename in os.listdir(input_folder):\n",
    "    if filename.endswith(\".wav\"):\n",
    "        input_filepath = os.path.join(input_folder, filename)\n",
    "        output_filepath = os.path.join(output_folder, filename)\n",
    "\n",
    "        # 读取音频数据\n",
    "        samplerate, data = wavfile.read(input_filepath)\n",
    "\n",
    "        # 应用滤波器\n",
    "        filtered_data = butter_lowpass_filter(data, cutoff, samplerate, order)\n",
    "\n",
    "        # 保存滤波后的音频数据到新的WAV文件\n",
    "        wavfile.write(output_filepath, samplerate, filtered_data.astype(np.int16))"
   ]
  },
  {
   "cell_type": "code",
   "execution_count": 7,
   "id": "9c18c073-39c3-42c3-b056-524b6b8dce22",
   "metadata": {},
   "outputs": [],
   "source": []
  },
  {
   "cell_type": "code",
   "execution_count": null,
   "id": "5dec10c1-c234-40a1-97da-b92e2d00c2ad",
   "metadata": {},
   "outputs": [],
   "source": []
  }
 ],
 "metadata": {
  "kernelspec": {
   "display_name": "py38kernel",
   "language": "python",
   "name": "py38-kernel"
  },
  "language_info": {
   "codemirror_mode": {
    "name": "ipython",
    "version": 3
   },
   "file_extension": ".py",
   "mimetype": "text/x-python",
   "name": "python",
   "nbconvert_exporter": "python",
   "pygments_lexer": "ipython3",
   "version": "3.8.18"
  }
 },
 "nbformat": 4,
 "nbformat_minor": 5
}
