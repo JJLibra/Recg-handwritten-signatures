{
 "cells": [
  {
   "cell_type": "markdown",
   "id": "3c656ab1-aa7b-4dfc-bf18-9f040b0f47c0",
   "metadata": {},
   "source": [
    "## 特征提取"
   ]
  },
  {
   "cell_type": "markdown",
   "id": "81637538-0414-4b56-bd26-02a84d3f8eed",
   "metadata": {},
   "source": [
    "### 时域特征"
   ]
  },
  {
   "cell_type": "markdown",
   "id": "8dfbfe43-3368-4734-a3eb-4a73f5cdf4ac",
   "metadata": {},
   "source": [
    "#### 音频能量"
   ]
  },
  {
   "cell_type": "code",
   "execution_count": 1,
   "id": "bac8ae78-a21f-4610-972d-9ee644a6fca8",
   "metadata": {},
   "outputs": [
    {
     "name": "stdout",
     "output_type": "stream",
     "text": [
      "音频能量：4.2505971936445663e-07\n"
     ]
    }
   ],
   "source": [
    "import librosa\n",
    "# 加载音频文件\n",
    "audio_path = 'data/lijunjie/1.wav'\n",
    "x, sr = librosa.load(audio_path)\n",
    "# 计算音频信号的能量\n",
    "energy = sum(x**2) / len(x)\n",
    "print(f\"音频能量：{energy}\")"
   ]
  },
  {
   "cell_type": "code",
   "execution_count": null,
   "id": "1fb07733-9a3f-4645-8827-c1023ca9100b",
   "metadata": {},
   "outputs": [],
   "source": []
  },
  {
   "cell_type": "code",
   "execution_count": null,
   "id": "69a95d31-0809-41ec-aec9-f284ca3bfa1a",
   "metadata": {},
   "outputs": [],
   "source": []
  },
  {
   "cell_type": "markdown",
   "id": "b73d3616-701b-4f35-869f-35c8d634b678",
   "metadata": {},
   "source": [
    "### 频域特征"
   ]
  },
  {
   "cell_type": "markdown",
   "id": "85349658-a69a-4198-b30c-80e506bb2448",
   "metadata": {},
   "source": [
    "#### MFCC"
   ]
  },
  {
   "cell_type": "code",
   "execution_count": 3,
   "id": "23180b7d-e454-45bb-86b8-5f72fd5d1495",
   "metadata": {},
   "outputs": [
    {
     "name": "stdout",
     "output_type": "stream",
     "text": [
      "MFCC特征的形状：(13, 302)\n"
     ]
    }
   ],
   "source": [
    "import librosa\n",
    "# 加载音频文件\n",
    "audio_path = 'data/lijunjie/1.wav'\n",
    "x, sr = librosa.load(audio_path)\n",
    "# 提取MFCC特征\n",
    "mfccs = librosa.feature.mfcc(y=x, sr=sr, n_mfcc=13)  # 选择13个MFCC系数\n",
    "print(f\"MFCC特征的形状：{mfccs.shape}\")"
   ]
  },
  {
   "cell_type": "code",
   "execution_count": null,
   "id": "d244a3da-ddae-47fa-a91d-acfb73a93de6",
   "metadata": {},
   "outputs": [],
   "source": []
  },
  {
   "cell_type": "code",
   "execution_count": null,
   "id": "7a7b63a8-f8dc-49cf-ab2e-0790bfa52fd0",
   "metadata": {},
   "outputs": [],
   "source": []
  },
  {
   "cell_type": "code",
   "execution_count": null,
   "id": "ad32b89c-dc67-4ee4-ad66-3d2c4ccc5c6c",
   "metadata": {},
   "outputs": [],
   "source": []
  },
  {
   "cell_type": "markdown",
   "id": "f63d0080-2ea7-4491-a1dc-a8241a78eb0f",
   "metadata": {},
   "source": [
    "### 时频域分析"
   ]
  },
  {
   "cell_type": "markdown",
   "id": "e096aba8-25ca-44c0-abbb-4e5e6c58e9b6",
   "metadata": {},
   "source": [
    "#### 小波系数"
   ]
  },
  {
   "cell_type": "code",
   "execution_count": 4,
   "id": "ced32f59-d58f-49a4-9328-393c44772724",
   "metadata": {},
   "outputs": [],
   "source": [
    "import numpy as np\n",
    "import librosa\n",
    "import pywt\n",
    "import matplotlib.pyplot as plt"
   ]
  },
  {
   "cell_type": "code",
   "execution_count": 5,
   "id": "6a8bdb9e-2774-4f95-8b87-e415820f1f3b",
   "metadata": {},
   "outputs": [],
   "source": [
    "# 读取音频文件\n",
    "audio, sr = librosa.load('std.wav', sr=None)"
   ]
  },
  {
   "cell_type": "code",
   "execution_count": 6,
   "id": "57eb015f-8556-45c5-8186-33dcc6944fb1",
   "metadata": {},
   "outputs": [],
   "source": [
    "# 定义小波基名称（例如，'db4'）\n",
    "wavelet_name = 'db4'\n",
    "\n",
    "# 使用指定小波基进行4级小波分解\n",
    "coeffs = pywt.wavedec(audio, wavelet_name, level=4)\n",
    "\n",
    "# 绘制原始信号图像\n",
    "plt.figure(figsize=(8, 6))\n",
    "plt.subplot(5, 1, 1)\n",
    "plt.plot(audio)\n",
    "plt.title('Original Signal')\n",
    "plt.xlabel('Time')\n",
    "plt.ylabel('Amplitude')\n",
    "\n",
    "# 绘制小波系数图像\n",
    "for i in range(1, len(coeffs)):\n",
    "    plt.subplot(5, 1, i+1)\n",
    "    plt.plot(coeffs[i])\n",
    "    plt.title(f'Wavelet Coefficients - Level {i}')\n",
    "    plt.xlabel('Time')\n",
    "    plt.ylabel('Amplitude')\n",
    "\n",
    "plt.tight_layout()\n",
    "plt.show()"
   ]
  },
  {
   "cell_type": "markdown",
   "id": "5c360876-2457-4f4c-8f99-f20e7c53363b",
   "metadata": {},
   "source": [
    "#### 能量特征"
   ]
  },
  {
   "cell_type": "code",
   "execution_count": 8,
   "id": "f5fff8dd-a0f9-466f-89c3-8af75e2db449",
   "metadata": {},
   "outputs": [
    {
     "name": "stdout",
     "output_type": "stream",
     "text": [
      "能量特征向量: [0.3696609, 0.0004383094, 1.0426533e-05, 6.39732e-06, 1.1952901e-05]\n"
     ]
    }
   ],
   "source": [
    "import numpy as np\n",
    "import pywt\n",
    "\n",
    "# 假设你已经有一个名为'coeffs'的小波系数序列\n",
    "# 计算每个系数序列的能量\n",
    "energy_features = [np.sum(np.square(coeff)) for coeff in coeffs]\n",
    "\n",
    "# 现在，energy_features就是你的特征向量\n",
    "print(\"能量特征向量:\", energy_features)"
   ]
  },
  {
   "cell_type": "markdown",
   "id": "b374b8f0-101e-4246-8a67-6a808aa50ccd",
   "metadata": {},
   "source": [
    "#### 频率特征"
   ]
  },
  {
   "cell_type": "code",
   "execution_count": 13,
   "id": "f9f7fcac-7f0c-454f-8499-c1a9c4c084b1",
   "metadata": {},
   "outputs": [
    {
     "name": "stdout",
     "output_type": "stream",
     "text": [
      "频率特征向量: [-0.00020363 -0.00325214 -0.04070048 ...  0.04114281  0.09025304\n",
      " -0.01811493]\n"
     ]
    }
   ],
   "source": [
    "# 假设你有两个小波系数序列：high_coeffs和low_coeffs\n",
    "high_coeffs = coeffs[1]\n",
    "low_coeffs = coeffs[0]\n",
    "# 计算高频部分与低频部分的比值\n",
    "frequency_ratio = np.divide(high_coeffs, low_coeffs)\n",
    "\n",
    "# 现在，frequency_ratio就是你的特征向量\n",
    "print(\"频率特征向量:\", frequency_ratio)"
   ]
  },
  {
   "cell_type": "code",
   "execution_count": null,
   "id": "c2a8079c-26a2-4e2d-a16c-965bcbf17245",
   "metadata": {},
   "outputs": [],
   "source": []
  },
  {
   "cell_type": "markdown",
   "id": "4716c65d-0b88-4560-922a-e9f693ff9c4f",
   "metadata": {},
   "source": [
    "#### 时频特征"
   ]
  },
  {
   "cell_type": "markdown",
   "id": "0f98a691-a245-4295-be23-78fa84c1c09e",
   "metadata": {},
   "source": [
    "##### 高频特征预览"
   ]
  },
  {
   "cell_type": "code",
   "execution_count": 14,
   "id": "e5e48f24-d9e7-477b-a495-86e95068da0b",
   "metadata": {},
   "outputs": [
    {
     "name": "stdout",
     "output_type": "stream",
     "text": [
      "[-1.4047241e-05 -4.4548466e-05  1.8487042e-05 ... -4.6965171e-05\n",
      "  2.4626548e-05 -1.4014107e-05]\n"
     ]
    },
    {
     "data": {
      "image/png": "[encoded data removed]",
      "text/plain": [
       "<Figure size 640x480 with 1 Axes>"
      ]
     },
     "metadata": {},
     "output_type": "display_data"
    }
   ],
   "source": [
    "# 假设你有一个小波系数序列：coeffs\n",
    "# 选择某个频率范围（例如高频部分）\n",
    "selected_coeffs = coeffs[2]  # 假设这是高频部分的系数\n",
    "# print(coeffs[2])\n",
    "\n",
    "# 绘制该系数随时间的变化\n",
    "import matplotlib.pyplot as plt\n",
    "plt.plot(selected_coeffs)\n",
    "plt.title(\"High-Frequency Coefficients over Time\")\n",
    "plt.xlabel(\"Time\")\n",
    "plt.ylabel(\"Coefficient Value\")\n",
    "plt.show()"
   ]
  },
  {
   "cell_type": "markdown",
   "id": "7e77825a-76bd-4cc0-b90b-74c041c17852",
   "metadata": {},
   "source": [
    "##### 单音频操作"
   ]
  },
  {
   "cell_type": "code",
   "execution_count": 15,
   "id": "57930e5d-95c9-40b4-84d2-c2232e9f5e9a",
   "metadata": {},
   "outputs": [
    {
     "name": "stdout",
     "output_type": "stream",
     "text": [
      "[11649.518351516865, 0.003975687329920455, 0.6500447161176752]\n"
     ]
    }
   ],
   "source": [
    "import os\n",
    "import pandas as pd\n",
    "import numpy as np\n",
    "import pywt\n",
    "from scipy.io import wavfile\n",
    "\n",
    "audio_path = 'test/6.wav'\n",
    "# 读取音频文件\n",
    "rate, wavsignal = wavfile.read(audio_path)\n",
    "\n",
    "# 进行小波变换\n",
    "wavelet_name = 'db4'\n",
    "coeffs = pywt.wavedec(wavsignal, wavelet_name, level=4)\n",
    "\n",
    "# 获取高频部分的系数（假设这是第二个尺度的高频部分）\n",
    "high_coeffs = coeffs[2]\n",
    "\n",
    "# 提取时频特征（例如能量、均值等）\n",
    "feature_vector = [np.sum(np.square(high_coeffs)), np.mean(high_coeffs), np.std(high_coeffs)]\n",
    "\n",
    "print(feature_vector)"
   ]
  },
  {
   "cell_type": "markdown",
   "id": "2ca93736-02d7-4d1c-bba1-0830b02ed0b4",
   "metadata": {},
   "source": [
    "##### 批量操作"
   ]
  },
  {
   "cell_type": "code",
   "execution_count": null,
   "id": "64eea516-49d2-4391-89df-7986f9f4a3e0",
   "metadata": {},
   "outputs": [],
   "source": []
  },
  {
   "cell_type": "code",
   "execution_count": null,
   "id": "dc6a0eb7-3371-4783-afbd-5459193914c6",
   "metadata": {},
   "outputs": [],
   "source": []
  },
  {
   "cell_type": "code",
   "execution_count": null,
   "id": "663eed53-0647-4ed9-81a1-c41de905e148",
   "metadata": {},
   "outputs": [],
   "source": []
  },
  {
   "cell_type": "code",
   "execution_count": null,
   "id": "8c320018-f689-4c11-bbbf-935d60551ebb",
   "metadata": {},
   "outputs": [],
   "source": []
  },
  {
   "cell_type": "markdown",
   "id": "aeccfc86-6067-4413-9598-03390184054c",
   "metadata": {},
   "source": [
    "## 生成特征向量"
   ]
  },
  {
   "cell_type": "code",
   "execution_count": 8,
   "id": "240e5958-cc6c-4785-bb18-22f18ca132a7",
   "metadata": {},
   "outputs": [],
   "source": [
    "import os\n",
    "import pandas as pd\n",
    "import librosa\n",
    "\n",
    "wav_filepath = 'std.wav'\n",
    "\n",
    "x, sr = librosa.load(wav_filepath)\n",
    "mfccs = librosa.feature.mfcc(y=x, sr=sr, n_mfcc=13)  # 选择13个MFCC系数\n",
    "energy = sum(x**2) / len(x)  # 计算能量\n",
    "feature_vector = mfccs.flatten().tolist() + [energy]\n",
    "\n",
    "# print(feature_vector)"
   ]
  },
  {
   "cell_type": "code",
   "execution_count": 6,
   "id": "95501180-f171-4d3d-a059-dd89152d3a81",
   "metadata": {},
   "outputs": [
    {
     "name": "stderr",
     "output_type": "stream",
     "text": [
      "C:\\Users\\86180\\AppData\\Local\\Temp\\ipykernel_119224\\3249559179.py:21: FutureWarning: The frame.append method is deprecated and will be removed from pandas in a future version. Use pandas.concat instead.\n",
      "  df = df.append({'feature': feature_vector, 'label': label}, ignore_index=True)\n",
      "C:\\Users\\86180\\AppData\\Local\\Temp\\ipykernel_119224\\3249559179.py:21: FutureWarning: The frame.append method is deprecated and will be removed from pandas in a future version. Use pandas.concat instead.\n",
      "  df = df.append({'feature': feature_vector, 'label': label}, ignore_index=True)\n",
      "C:\\Users\\86180\\AppData\\Local\\Temp\\ipykernel_119224\\3249559179.py:21: FutureWarning: The frame.append method is deprecated and will be removed from pandas in a future version. Use pandas.concat instead.\n",
      "  df = df.append({'feature': feature_vector, 'label': label}, ignore_index=True)\n",
      "C:\\Users\\86180\\AppData\\Local\\Temp\\ipykernel_119224\\3249559179.py:21: FutureWarning: The frame.append method is deprecated and will be removed from pandas in a future version. Use pandas.concat instead.\n",
      "  df = df.append({'feature': feature_vector, 'label': label}, ignore_index=True)\n",
      "C:\\Users\\86180\\AppData\\Local\\Temp\\ipykernel_119224\\3249559179.py:21: FutureWarning: The frame.append method is deprecated and will be removed from pandas in a future version. Use pandas.concat instead.\n",
      "  df = df.append({'feature': feature_vector, 'label': label}, ignore_index=True)\n",
      "C:\\Users\\86180\\AppData\\Local\\Temp\\ipykernel_119224\\3249559179.py:21: FutureWarning: The frame.append method is deprecated and will be removed from pandas in a future version. Use pandas.concat instead.\n",
      "  df = df.append({'feature': feature_vector, 'label': label}, ignore_index=True)\n",
      "C:\\Users\\86180\\AppData\\Local\\Temp\\ipykernel_119224\\3249559179.py:21: FutureWarning: The frame.append method is deprecated and will be removed from pandas in a future version. Use pandas.concat instead.\n",
      "  df = df.append({'feature': feature_vector, 'label': label}, ignore_index=True)\n",
      "C:\\Users\\86180\\AppData\\Local\\Temp\\ipykernel_119224\\3249559179.py:21: FutureWarning: The frame.append method is deprecated and will be removed from pandas in a future version. Use pandas.concat instead.\n",
      "  df = df.append({'feature': feature_vector, 'label': label}, ignore_index=True)\n",
      "C:\\Users\\86180\\AppData\\Local\\Temp\\ipykernel_119224\\3249559179.py:21: FutureWarning: The frame.append method is deprecated and will be removed from pandas in a future version. Use pandas.concat instead.\n",
      "  df = df.append({'feature': feature_vector, 'label': label}, ignore_index=True)\n",
      "C:\\Users\\86180\\AppData\\Local\\Temp\\ipykernel_119224\\3249559179.py:21: FutureWarning: The frame.append method is deprecated and will be removed from pandas in a future version. Use pandas.concat instead.\n",
      "  df = df.append({'feature': feature_vector, 'label': label}, ignore_index=True)\n",
      "C:\\Users\\86180\\AppData\\Local\\Temp\\ipykernel_119224\\3249559179.py:21: FutureWarning: The frame.append method is deprecated and will be removed from pandas in a future version. Use pandas.concat instead.\n",
      "  df = df.append({'feature': feature_vector, 'label': label}, ignore_index=True)\n",
      "C:\\Users\\86180\\AppData\\Local\\Temp\\ipykernel_119224\\3249559179.py:21: FutureWarning: The frame.append method is deprecated and will be removed from pandas in a future version. Use pandas.concat instead.\n",
      "  df = df.append({'feature': feature_vector, 'label': label}, ignore_index=True)\n",
      "C:\\Users\\86180\\AppData\\Local\\Temp\\ipykernel_119224\\3249559179.py:21: FutureWarning: The frame.append method is deprecated and will be removed from pandas in a future version. Use pandas.concat instead.\n",
      "  df = df.append({'feature': feature_vector, 'label': label}, ignore_index=True)\n",
      "C:\\Users\\86180\\AppData\\Local\\Temp\\ipykernel_119224\\3249559179.py:21: FutureWarning: The frame.append method is deprecated and will be removed from pandas in a future version. Use pandas.concat instead.\n",
      "  df = df.append({'feature': feature_vector, 'label': label}, ignore_index=True)\n",
      "C:\\Users\\86180\\AppData\\Local\\Temp\\ipykernel_119224\\3249559179.py:21: FutureWarning: The frame.append method is deprecated and will be removed from pandas in a future version. Use pandas.concat instead.\n",
      "  df = df.append({'feature': feature_vector, 'label': label}, ignore_index=True)\n",
      "C:\\Users\\86180\\AppData\\Local\\Temp\\ipykernel_119224\\3249559179.py:21: FutureWarning: The frame.append method is deprecated and will be removed from pandas in a future version. Use pandas.concat instead.\n",
      "  df = df.append({'feature': feature_vector, 'label': label}, ignore_index=True)\n",
      "C:\\Users\\86180\\AppData\\Local\\Temp\\ipykernel_119224\\3249559179.py:21: FutureWarning: The frame.append method is deprecated and will be removed from pandas in a future version. Use pandas.concat instead.\n",
      "  df = df.append({'feature': feature_vector, 'label': label}, ignore_index=True)\n",
      "C:\\Users\\86180\\AppData\\Local\\Temp\\ipykernel_119224\\3249559179.py:21: FutureWarning: The frame.append method is deprecated and will be removed from pandas in a future version. Use pandas.concat instead.\n",
      "  df = df.append({'feature': feature_vector, 'label': label}, ignore_index=True)\n",
      "C:\\Users\\86180\\AppData\\Local\\Temp\\ipykernel_119224\\3249559179.py:21: FutureWarning: The frame.append method is deprecated and will be removed from pandas in a future version. Use pandas.concat instead.\n",
      "  df = df.append({'feature': feature_vector, 'label': label}, ignore_index=True)\n",
      "C:\\Users\\86180\\AppData\\Local\\Temp\\ipykernel_119224\\3249559179.py:21: FutureWarning: The frame.append method is deprecated and will be removed from pandas in a future version. Use pandas.concat instead.\n",
      "  df = df.append({'feature': feature_vector, 'label': label}, ignore_index=True)\n",
      "C:\\Users\\86180\\AppData\\Local\\Temp\\ipykernel_119224\\3249559179.py:21: FutureWarning: The frame.append method is deprecated and will be removed from pandas in a future version. Use pandas.concat instead.\n",
      "  df = df.append({'feature': feature_vector, 'label': label}, ignore_index=True)\n",
      "C:\\Users\\86180\\AppData\\Local\\Temp\\ipykernel_119224\\3249559179.py:21: FutureWarning: The frame.append method is deprecated and will be removed from pandas in a future version. Use pandas.concat instead.\n",
      "  df = df.append({'feature': feature_vector, 'label': label}, ignore_index=True)\n",
      "C:\\Users\\86180\\AppData\\Local\\Temp\\ipykernel_119224\\3249559179.py:21: FutureWarning: The frame.append method is deprecated and will be removed from pandas in a future version. Use pandas.concat instead.\n",
      "  df = df.append({'feature': feature_vector, 'label': label}, ignore_index=True)\n",
      "C:\\Users\\86180\\AppData\\Local\\Temp\\ipykernel_119224\\3249559179.py:21: FutureWarning: The frame.append method is deprecated and will be removed from pandas in a future version. Use pandas.concat instead.\n",
      "  df = df.append({'feature': feature_vector, 'label': label}, ignore_index=True)\n",
      "C:\\Users\\86180\\AppData\\Local\\Temp\\ipykernel_119224\\3249559179.py:21: FutureWarning: The frame.append method is deprecated and will be removed from pandas in a future version. Use pandas.concat instead.\n",
      "  df = df.append({'feature': feature_vector, 'label': label}, ignore_index=True)\n",
      "C:\\Users\\86180\\AppData\\Local\\Temp\\ipykernel_119224\\3249559179.py:21: FutureWarning: The frame.append method is deprecated and will be removed from pandas in a future version. Use pandas.concat instead.\n",
      "  df = df.append({'feature': feature_vector, 'label': label}, ignore_index=True)\n",
      "C:\\Users\\86180\\AppData\\Local\\Temp\\ipykernel_119224\\3249559179.py:21: FutureWarning: The frame.append method is deprecated and will be removed from pandas in a future version. Use pandas.concat instead.\n",
      "  df = df.append({'feature': feature_vector, 'label': label}, ignore_index=True)\n",
      "C:\\Users\\86180\\AppData\\Local\\Temp\\ipykernel_119224\\3249559179.py:21: FutureWarning: The frame.append method is deprecated and will be removed from pandas in a future version. Use pandas.concat instead.\n",
      "  df = df.append({'feature': feature_vector, 'label': label}, ignore_index=True)\n",
      "C:\\Users\\86180\\AppData\\Local\\Temp\\ipykernel_119224\\3249559179.py:21: FutureWarning: The frame.append method is deprecated and will be removed from pandas in a future version. Use pandas.concat instead.\n",
      "  df = df.append({'feature': feature_vector, 'label': label}, ignore_index=True)\n",
      "C:\\Users\\86180\\AppData\\Local\\Temp\\ipykernel_119224\\3249559179.py:21: FutureWarning: The frame.append method is deprecated and will be removed from pandas in a future version. Use pandas.concat instead.\n",
      "  df = df.append({'feature': feature_vector, 'label': label}, ignore_index=True)\n",
      "C:\\Users\\86180\\AppData\\Local\\Temp\\ipykernel_119224\\3249559179.py:21: FutureWarning: The frame.append method is deprecated and will be removed from pandas in a future version. Use pandas.concat instead.\n",
      "  df = df.append({'feature': feature_vector, 'label': label}, ignore_index=True)\n",
      "C:\\Users\\86180\\AppData\\Local\\Temp\\ipykernel_119224\\3249559179.py:21: FutureWarning: The frame.append method is deprecated and will be removed from pandas in a future version. Use pandas.concat instead.\n",
      "  df = df.append({'feature': feature_vector, 'label': label}, ignore_index=True)\n",
      "C:\\Users\\86180\\AppData\\Local\\Temp\\ipykernel_119224\\3249559179.py:21: FutureWarning: The frame.append method is deprecated and will be removed from pandas in a future version. Use pandas.concat instead.\n",
      "  df = df.append({'feature': feature_vector, 'label': label}, ignore_index=True)\n",
      "C:\\Users\\86180\\AppData\\Local\\Temp\\ipykernel_119224\\3249559179.py:21: FutureWarning: The frame.append method is deprecated and will be removed from pandas in a future version. Use pandas.concat instead.\n",
      "  df = df.append({'feature': feature_vector, 'label': label}, ignore_index=True)\n",
      "C:\\Users\\86180\\AppData\\Local\\Temp\\ipykernel_119224\\3249559179.py:21: FutureWarning: The frame.append method is deprecated and will be removed from pandas in a future version. Use pandas.concat instead.\n",
      "  df = df.append({'feature': feature_vector, 'label': label}, ignore_index=True)\n",
      "C:\\Users\\86180\\AppData\\Local\\Temp\\ipykernel_119224\\3249559179.py:21: FutureWarning: The frame.append method is deprecated and will be removed from pandas in a future version. Use pandas.concat instead.\n",
      "  df = df.append({'feature': feature_vector, 'label': label}, ignore_index=True)\n",
      "C:\\Users\\86180\\AppData\\Local\\Temp\\ipykernel_119224\\3249559179.py:21: FutureWarning: The frame.append method is deprecated and will be removed from pandas in a future version. Use pandas.concat instead.\n",
      "  df = df.append({'feature': feature_vector, 'label': label}, ignore_index=True)\n",
      "C:\\Users\\86180\\AppData\\Local\\Temp\\ipykernel_119224\\3249559179.py:21: FutureWarning: The frame.append method is deprecated and will be removed from pandas in a future version. Use pandas.concat instead.\n",
      "  df = df.append({'feature': feature_vector, 'label': label}, ignore_index=True)\n",
      "C:\\Users\\86180\\AppData\\Local\\Temp\\ipykernel_119224\\3249559179.py:21: FutureWarning: The frame.append method is deprecated and will be removed from pandas in a future version. Use pandas.concat instead.\n",
      "  df = df.append({'feature': feature_vector, 'label': label}, ignore_index=True)\n",
      "C:\\Users\\86180\\AppData\\Local\\Temp\\ipykernel_119224\\3249559179.py:21: FutureWarning: The frame.append method is deprecated and will be removed from pandas in a future version. Use pandas.concat instead.\n",
      "  df = df.append({'feature': feature_vector, 'label': label}, ignore_index=True)\n",
      "C:\\Users\\86180\\AppData\\Local\\Temp\\ipykernel_119224\\3249559179.py:21: FutureWarning: The frame.append method is deprecated and will be removed from pandas in a future version. Use pandas.concat instead.\n",
      "  df = df.append({'feature': feature_vector, 'label': label}, ignore_index=True)\n",
      "C:\\Users\\86180\\AppData\\Local\\Temp\\ipykernel_119224\\3249559179.py:21: FutureWarning: The frame.append method is deprecated and will be removed from pandas in a future version. Use pandas.concat instead.\n",
      "  df = df.append({'feature': feature_vector, 'label': label}, ignore_index=True)\n",
      "C:\\Users\\86180\\AppData\\Local\\Temp\\ipykernel_119224\\3249559179.py:21: FutureWarning: The frame.append method is deprecated and will be removed from pandas in a future version. Use pandas.concat instead.\n",
      "  df = df.append({'feature': feature_vector, 'label': label}, ignore_index=True)\n",
      "C:\\Users\\86180\\AppData\\Local\\Temp\\ipykernel_119224\\3249559179.py:21: FutureWarning: The frame.append method is deprecated and will be removed from pandas in a future version. Use pandas.concat instead.\n",
      "  df = df.append({'feature': feature_vector, 'label': label}, ignore_index=True)\n",
      "C:\\Users\\86180\\AppData\\Local\\Temp\\ipykernel_119224\\3249559179.py:21: FutureWarning: The frame.append method is deprecated and will be removed from pandas in a future version. Use pandas.concat instead.\n",
      "  df = df.append({'feature': feature_vector, 'label': label}, ignore_index=True)\n",
      "C:\\Users\\86180\\AppData\\Local\\Temp\\ipykernel_119224\\3249559179.py:21: FutureWarning: The frame.append method is deprecated and will be removed from pandas in a future version. Use pandas.concat instead.\n",
      "  df = df.append({'feature': feature_vector, 'label': label}, ignore_index=True)\n",
      "C:\\Users\\86180\\AppData\\Local\\Temp\\ipykernel_119224\\3249559179.py:21: FutureWarning: The frame.append method is deprecated and will be removed from pandas in a future version. Use pandas.concat instead.\n",
      "  df = df.append({'feature': feature_vector, 'label': label}, ignore_index=True)\n",
      "C:\\Users\\86180\\AppData\\Local\\Temp\\ipykernel_119224\\3249559179.py:21: FutureWarning: The frame.append method is deprecated and will be removed from pandas in a future version. Use pandas.concat instead.\n",
      "  df = df.append({'feature': feature_vector, 'label': label}, ignore_index=True)\n",
      "C:\\Users\\86180\\AppData\\Local\\Temp\\ipykernel_119224\\3249559179.py:21: FutureWarning: The frame.append method is deprecated and will be removed from pandas in a future version. Use pandas.concat instead.\n",
      "  df = df.append({'feature': feature_vector, 'label': label}, ignore_index=True)\n",
      "C:\\Users\\86180\\AppData\\Local\\Temp\\ipykernel_119224\\3249559179.py:21: FutureWarning: The frame.append method is deprecated and will be removed from pandas in a future version. Use pandas.concat instead.\n",
      "  df = df.append({'feature': feature_vector, 'label': label}, ignore_index=True)\n",
      "C:\\Users\\86180\\AppData\\Local\\Temp\\ipykernel_119224\\3249559179.py:21: FutureWarning: The frame.append method is deprecated and will be removed from pandas in a future version. Use pandas.concat instead.\n",
      "  df = df.append({'feature': feature_vector, 'label': label}, ignore_index=True)\n",
      "C:\\Users\\86180\\AppData\\Local\\Temp\\ipykernel_119224\\3249559179.py:21: FutureWarning: The frame.append method is deprecated and will be removed from pandas in a future version. Use pandas.concat instead.\n",
      "  df = df.append({'feature': feature_vector, 'label': label}, ignore_index=True)\n",
      "C:\\Users\\86180\\AppData\\Local\\Temp\\ipykernel_119224\\3249559179.py:21: FutureWarning: The frame.append method is deprecated and will be removed from pandas in a future version. Use pandas.concat instead.\n",
      "  df = df.append({'feature': feature_vector, 'label': label}, ignore_index=True)\n",
      "C:\\Users\\86180\\AppData\\Local\\Temp\\ipykernel_119224\\3249559179.py:21: FutureWarning: The frame.append method is deprecated and will be removed from pandas in a future version. Use pandas.concat instead.\n",
      "  df = df.append({'feature': feature_vector, 'label': label}, ignore_index=True)\n",
      "C:\\Users\\86180\\AppData\\Local\\Temp\\ipykernel_119224\\3249559179.py:21: FutureWarning: The frame.append method is deprecated and will be removed from pandas in a future version. Use pandas.concat instead.\n",
      "  df = df.append({'feature': feature_vector, 'label': label}, ignore_index=True)\n",
      "C:\\Users\\86180\\AppData\\Local\\Temp\\ipykernel_119224\\3249559179.py:21: FutureWarning: The frame.append method is deprecated and will be removed from pandas in a future version. Use pandas.concat instead.\n",
      "  df = df.append({'feature': feature_vector, 'label': label}, ignore_index=True)\n",
      "C:\\Users\\86180\\AppData\\Local\\Temp\\ipykernel_119224\\3249559179.py:21: FutureWarning: The frame.append method is deprecated and will be removed from pandas in a future version. Use pandas.concat instead.\n",
      "  df = df.append({'feature': feature_vector, 'label': label}, ignore_index=True)\n",
      "C:\\Users\\86180\\AppData\\Local\\Temp\\ipykernel_119224\\3249559179.py:21: FutureWarning: The frame.append method is deprecated and will be removed from pandas in a future version. Use pandas.concat instead.\n",
      "  df = df.append({'feature': feature_vector, 'label': label}, ignore_index=True)\n",
      "C:\\Users\\86180\\AppData\\Local\\Temp\\ipykernel_119224\\3249559179.py:21: FutureWarning: The frame.append method is deprecated and will be removed from pandas in a future version. Use pandas.concat instead.\n",
      "  df = df.append({'feature': feature_vector, 'label': label}, ignore_index=True)\n",
      "C:\\Users\\86180\\AppData\\Local\\Temp\\ipykernel_119224\\3249559179.py:21: FutureWarning: The frame.append method is deprecated and will be removed from pandas in a future version. Use pandas.concat instead.\n",
      "  df = df.append({'feature': feature_vector, 'label': label}, ignore_index=True)\n"
     ]
    },
    {
     "name": "stdout",
     "output_type": "stream",
     "text": [
      "特征向量和标签已保存到 features_and_labels.csv 中。\n"
     ]
    }
   ],
   "source": [
    "import os\n",
    "import pandas as pd\n",
    "import librosa\n",
    "\n",
    "# 文件夹路径\n",
    "data_folder = 'data'\n",
    "full_folder = os.path.join(data_folder, 'full')\n",
    "labels_csv = os.path.join(full_folder, 'labels.csv')\n",
    "\n",
    "# 创建空的DataFrame来存储特征向量和标签\n",
    "df = pd.DataFrame(columns=['feature', 'label'])\n",
    "\n",
    "# 遍历labels.csv中的每一行\n",
    "with open(labels_csv, 'r') as f:\n",
    "    for line in f:\n",
    "        label, wav_filepath = line.strip().split(' ')\n",
    "        x, sr = librosa.load(wav_filepath)\n",
    "        mfccs = librosa.feature.mfcc(y=x, sr=sr, n_mfcc=13)  # 选择13个MFCC系数\n",
    "        energy = sum(x**2) / len(x)  # 计算能量\n",
    "        feature_vector = mfccs.flatten().tolist() + [energy]\n",
    "        df = df.append({'feature': feature_vector, 'label': label}, ignore_index=True)\n",
    "\n",
    "# 保存到CSV文件\n",
    "output_csv = 'features_and_labels.csv'\n",
    "df.to_csv(output_csv, index=False)\n",
    "\n",
    "print(f\"特征向量和标签已保存到 {output_csv} 中。\")"
   ]
  },
  {
   "cell_type": "code",
   "execution_count": 10,
   "id": "8cc11abf-868c-4e1b-aea1-c15140b498ab",
   "metadata": {},
   "outputs": [
    {
     "name": "stderr",
     "output_type": "stream",
     "text": [
      "C:\\Users\\86180\\AppData\\Local\\Temp\\ipykernel_119224\\2807822913.py:20: FutureWarning: The frame.append method is deprecated and will be removed from pandas in a future version. Use pandas.concat instead.\n",
      "  df = df.append({'feature': feature_vector, 'label': label}, ignore_index=True)\n",
      "C:\\Users\\86180\\AppData\\Local\\Temp\\ipykernel_119224\\2807822913.py:20: FutureWarning: The frame.append method is deprecated and will be removed from pandas in a future version. Use pandas.concat instead.\n",
      "  df = df.append({'feature': feature_vector, 'label': label}, ignore_index=True)\n",
      "C:\\Users\\86180\\AppData\\Local\\Temp\\ipykernel_119224\\2807822913.py:20: FutureWarning: The frame.append method is deprecated and will be removed from pandas in a future version. Use pandas.concat instead.\n",
      "  df = df.append({'feature': feature_vector, 'label': label}, ignore_index=True)\n",
      "C:\\Users\\86180\\AppData\\Local\\Temp\\ipykernel_119224\\2807822913.py:20: FutureWarning: The frame.append method is deprecated and will be removed from pandas in a future version. Use pandas.concat instead.\n",
      "  df = df.append({'feature': feature_vector, 'label': label}, ignore_index=True)\n",
      "C:\\Users\\86180\\AppData\\Local\\Temp\\ipykernel_119224\\2807822913.py:20: FutureWarning: The frame.append method is deprecated and will be removed from pandas in a future version. Use pandas.concat instead.\n",
      "  df = df.append({'feature': feature_vector, 'label': label}, ignore_index=True)\n",
      "C:\\Users\\86180\\AppData\\Local\\Temp\\ipykernel_119224\\2807822913.py:20: FutureWarning: The frame.append method is deprecated and will be removed from pandas in a future version. Use pandas.concat instead.\n",
      "  df = df.append({'feature': feature_vector, 'label': label}, ignore_index=True)\n",
      "C:\\Users\\86180\\AppData\\Local\\Temp\\ipykernel_119224\\2807822913.py:20: FutureWarning: The frame.append method is deprecated and will be removed from pandas in a future version. Use pandas.concat instead.\n",
      "  df = df.append({'feature': feature_vector, 'label': label}, ignore_index=True)\n",
      "C:\\Users\\86180\\AppData\\Local\\Temp\\ipykernel_119224\\2807822913.py:20: FutureWarning: The frame.append method is deprecated and will be removed from pandas in a future version. Use pandas.concat instead.\n",
      "  df = df.append({'feature': feature_vector, 'label': label}, ignore_index=True)\n",
      "C:\\Users\\86180\\AppData\\Local\\Temp\\ipykernel_119224\\2807822913.py:20: FutureWarning: The frame.append method is deprecated and will be removed from pandas in a future version. Use pandas.concat instead.\n",
      "  df = df.append({'feature': feature_vector, 'label': label}, ignore_index=True)\n",
      "C:\\Users\\86180\\AppData\\Local\\Temp\\ipykernel_119224\\2807822913.py:20: FutureWarning: The frame.append method is deprecated and will be removed from pandas in a future version. Use pandas.concat instead.\n",
      "  df = df.append({'feature': feature_vector, 'label': label}, ignore_index=True)\n",
      "C:\\Users\\86180\\AppData\\Local\\Temp\\ipykernel_119224\\2807822913.py:20: FutureWarning: The frame.append method is deprecated and will be removed from pandas in a future version. Use pandas.concat instead.\n",
      "  df = df.append({'feature': feature_vector, 'label': label}, ignore_index=True)\n",
      "C:\\Users\\86180\\AppData\\Local\\Temp\\ipykernel_119224\\2807822913.py:20: FutureWarning: The frame.append method is deprecated and will be removed from pandas in a future version. Use pandas.concat instead.\n",
      "  df = df.append({'feature': feature_vector, 'label': label}, ignore_index=True)\n",
      "C:\\Users\\86180\\AppData\\Local\\Temp\\ipykernel_119224\\2807822913.py:20: FutureWarning: The frame.append method is deprecated and will be removed from pandas in a future version. Use pandas.concat instead.\n",
      "  df = df.append({'feature': feature_vector, 'label': label}, ignore_index=True)\n",
      "C:\\Users\\86180\\AppData\\Local\\Temp\\ipykernel_119224\\2807822913.py:20: FutureWarning: The frame.append method is deprecated and will be removed from pandas in a future version. Use pandas.concat instead.\n",
      "  df = df.append({'feature': feature_vector, 'label': label}, ignore_index=True)\n",
      "C:\\Users\\86180\\AppData\\Local\\Temp\\ipykernel_119224\\2807822913.py:20: FutureWarning: The frame.append method is deprecated and will be removed from pandas in a future version. Use pandas.concat instead.\n",
      "  df = df.append({'feature': feature_vector, 'label': label}, ignore_index=True)\n",
      "C:\\Users\\86180\\AppData\\Local\\Temp\\ipykernel_119224\\2807822913.py:20: FutureWarning: The frame.append method is deprecated and will be removed from pandas in a future version. Use pandas.concat instead.\n",
      "  df = df.append({'feature': feature_vector, 'label': label}, ignore_index=True)\n",
      "C:\\Users\\86180\\AppData\\Local\\Temp\\ipykernel_119224\\2807822913.py:20: FutureWarning: The frame.append method is deprecated and will be removed from pandas in a future version. Use pandas.concat instead.\n",
      "  df = df.append({'feature': feature_vector, 'label': label}, ignore_index=True)\n",
      "C:\\Users\\86180\\AppData\\Local\\Temp\\ipykernel_119224\\2807822913.py:20: FutureWarning: The frame.append method is deprecated and will be removed from pandas in a future version. Use pandas.concat instead.\n",
      "  df = df.append({'feature': feature_vector, 'label': label}, ignore_index=True)\n",
      "C:\\Users\\86180\\AppData\\Local\\Temp\\ipykernel_119224\\2807822913.py:20: FutureWarning: The frame.append method is deprecated and will be removed from pandas in a future version. Use pandas.concat instead.\n",
      "  df = df.append({'feature': feature_vector, 'label': label}, ignore_index=True)\n",
      "C:\\Users\\86180\\AppData\\Local\\Temp\\ipykernel_119224\\2807822913.py:20: FutureWarning: The frame.append method is deprecated and will be removed from pandas in a future version. Use pandas.concat instead.\n",
      "  df = df.append({'feature': feature_vector, 'label': label}, ignore_index=True)\n",
      "C:\\Users\\86180\\AppData\\Local\\Temp\\ipykernel_119224\\2807822913.py:20: FutureWarning: The frame.append method is deprecated and will be removed from pandas in a future version. Use pandas.concat instead.\n",
      "  df = df.append({'feature': feature_vector, 'label': label}, ignore_index=True)\n",
      "C:\\Users\\86180\\AppData\\Local\\Temp\\ipykernel_119224\\2807822913.py:20: FutureWarning: The frame.append method is deprecated and will be removed from pandas in a future version. Use pandas.concat instead.\n",
      "  df = df.append({'feature': feature_vector, 'label': label}, ignore_index=True)\n",
      "C:\\Users\\86180\\AppData\\Local\\Temp\\ipykernel_119224\\2807822913.py:20: FutureWarning: The frame.append method is deprecated and will be removed from pandas in a future version. Use pandas.concat instead.\n",
      "  df = df.append({'feature': feature_vector, 'label': label}, ignore_index=True)\n",
      "C:\\Users\\86180\\AppData\\Local\\Temp\\ipykernel_119224\\2807822913.py:20: FutureWarning: The frame.append method is deprecated and will be removed from pandas in a future version. Use pandas.concat instead.\n",
      "  df = df.append({'feature': feature_vector, 'label': label}, ignore_index=True)\n",
      "C:\\Users\\86180\\AppData\\Local\\Temp\\ipykernel_119224\\2807822913.py:20: FutureWarning: The frame.append method is deprecated and will be removed from pandas in a future version. Use pandas.concat instead.\n",
      "  df = df.append({'feature': feature_vector, 'label': label}, ignore_index=True)\n",
      "C:\\Users\\86180\\AppData\\Local\\Temp\\ipykernel_119224\\2807822913.py:20: FutureWarning: The frame.append method is deprecated and will be removed from pandas in a future version. Use pandas.concat instead.\n",
      "  df = df.append({'feature': feature_vector, 'label': label}, ignore_index=True)\n",
      "C:\\Users\\86180\\AppData\\Local\\Temp\\ipykernel_119224\\2807822913.py:20: FutureWarning: The frame.append method is deprecated and will be removed from pandas in a future version. Use pandas.concat instead.\n",
      "  df = df.append({'feature': feature_vector, 'label': label}, ignore_index=True)\n",
      "C:\\Users\\86180\\AppData\\Local\\Temp\\ipykernel_119224\\2807822913.py:20: FutureWarning: The frame.append method is deprecated and will be removed from pandas in a future version. Use pandas.concat instead.\n",
      "  df = df.append({'feature': feature_vector, 'label': label}, ignore_index=True)\n",
      "C:\\Users\\86180\\AppData\\Local\\Temp\\ipykernel_119224\\2807822913.py:20: FutureWarning: The frame.append method is deprecated and will be removed from pandas in a future version. Use pandas.concat instead.\n",
      "  df = df.append({'feature': feature_vector, 'label': label}, ignore_index=True)\n",
      "C:\\Users\\86180\\AppData\\Local\\Temp\\ipykernel_119224\\2807822913.py:20: FutureWarning: The frame.append method is deprecated and will be removed from pandas in a future version. Use pandas.concat instead.\n",
      "  df = df.append({'feature': feature_vector, 'label': label}, ignore_index=True)\n",
      "C:\\Users\\86180\\AppData\\Local\\Temp\\ipykernel_119224\\2807822913.py:20: FutureWarning: The frame.append method is deprecated and will be removed from pandas in a future version. Use pandas.concat instead.\n",
      "  df = df.append({'feature': feature_vector, 'label': label}, ignore_index=True)\n",
      "C:\\Users\\86180\\AppData\\Local\\Temp\\ipykernel_119224\\2807822913.py:20: FutureWarning: The frame.append method is deprecated and will be removed from pandas in a future version. Use pandas.concat instead.\n",
      "  df = df.append({'feature': feature_vector, 'label': label}, ignore_index=True)\n",
      "C:\\Users\\86180\\AppData\\Local\\Temp\\ipykernel_119224\\2807822913.py:20: FutureWarning: The frame.append method is deprecated and will be removed from pandas in a future version. Use pandas.concat instead.\n",
      "  df = df.append({'feature': feature_vector, 'label': label}, ignore_index=True)\n",
      "C:\\Users\\86180\\AppData\\Local\\Temp\\ipykernel_119224\\2807822913.py:20: FutureWarning: The frame.append method is deprecated and will be removed from pandas in a future version. Use pandas.concat instead.\n",
      "  df = df.append({'feature': feature_vector, 'label': label}, ignore_index=True)\n",
      "C:\\Users\\86180\\AppData\\Local\\Temp\\ipykernel_119224\\2807822913.py:20: FutureWarning: The frame.append method is deprecated and will be removed from pandas in a future version. Use pandas.concat instead.\n",
      "  df = df.append({'feature': feature_vector, 'label': label}, ignore_index=True)\n",
      "C:\\Users\\86180\\AppData\\Local\\Temp\\ipykernel_119224\\2807822913.py:20: FutureWarning: The frame.append method is deprecated and will be removed from pandas in a future version. Use pandas.concat instead.\n",
      "  df = df.append({'feature': feature_vector, 'label': label}, ignore_index=True)\n",
      "C:\\Users\\86180\\AppData\\Local\\Temp\\ipykernel_119224\\2807822913.py:20: FutureWarning: The frame.append method is deprecated and will be removed from pandas in a future version. Use pandas.concat instead.\n",
      "  df = df.append({'feature': feature_vector, 'label': label}, ignore_index=True)\n",
      "C:\\Users\\86180\\AppData\\Local\\Temp\\ipykernel_119224\\2807822913.py:20: FutureWarning: The frame.append method is deprecated and will be removed from pandas in a future version. Use pandas.concat instead.\n",
      "  df = df.append({'feature': feature_vector, 'label': label}, ignore_index=True)\n",
      "C:\\Users\\86180\\AppData\\Local\\Temp\\ipykernel_119224\\2807822913.py:20: FutureWarning: The frame.append method is deprecated and will be removed from pandas in a future version. Use pandas.concat instead.\n",
      "  df = df.append({'feature': feature_vector, 'label': label}, ignore_index=True)\n",
      "C:\\Users\\86180\\AppData\\Local\\Temp\\ipykernel_119224\\2807822913.py:20: FutureWarning: The frame.append method is deprecated and will be removed from pandas in a future version. Use pandas.concat instead.\n",
      "  df = df.append({'feature': feature_vector, 'label': label}, ignore_index=True)\n",
      "C:\\Users\\86180\\AppData\\Local\\Temp\\ipykernel_119224\\2807822913.py:20: FutureWarning: The frame.append method is deprecated and will be removed from pandas in a future version. Use pandas.concat instead.\n",
      "  df = df.append({'feature': feature_vector, 'label': label}, ignore_index=True)\n",
      "C:\\Users\\86180\\AppData\\Local\\Temp\\ipykernel_119224\\2807822913.py:20: FutureWarning: The frame.append method is deprecated and will be removed from pandas in a future version. Use pandas.concat instead.\n",
      "  df = df.append({'feature': feature_vector, 'label': label}, ignore_index=True)\n",
      "C:\\Users\\86180\\AppData\\Local\\Temp\\ipykernel_119224\\2807822913.py:20: FutureWarning: The frame.append method is deprecated and will be removed from pandas in a future version. Use pandas.concat instead.\n",
      "  df = df.append({'feature': feature_vector, 'label': label}, ignore_index=True)\n",
      "C:\\Users\\86180\\AppData\\Local\\Temp\\ipykernel_119224\\2807822913.py:20: FutureWarning: The frame.append method is deprecated and will be removed from pandas in a future version. Use pandas.concat instead.\n",
      "  df = df.append({'feature': feature_vector, 'label': label}, ignore_index=True)\n",
      "C:\\Users\\86180\\AppData\\Local\\Temp\\ipykernel_119224\\2807822913.py:20: FutureWarning: The frame.append method is deprecated and will be removed from pandas in a future version. Use pandas.concat instead.\n",
      "  df = df.append({'feature': feature_vector, 'label': label}, ignore_index=True)\n",
      "C:\\Users\\86180\\AppData\\Local\\Temp\\ipykernel_119224\\2807822913.py:20: FutureWarning: The frame.append method is deprecated and will be removed from pandas in a future version. Use pandas.concat instead.\n",
      "  df = df.append({'feature': feature_vector, 'label': label}, ignore_index=True)\n",
      "C:\\Users\\86180\\AppData\\Local\\Temp\\ipykernel_119224\\2807822913.py:20: FutureWarning: The frame.append method is deprecated and will be removed from pandas in a future version. Use pandas.concat instead.\n",
      "  df = df.append({'feature': feature_vector, 'label': label}, ignore_index=True)\n",
      "C:\\Users\\86180\\AppData\\Local\\Temp\\ipykernel_119224\\2807822913.py:20: FutureWarning: The frame.append method is deprecated and will be removed from pandas in a future version. Use pandas.concat instead.\n",
      "  df = df.append({'feature': feature_vector, 'label': label}, ignore_index=True)\n",
      "C:\\Users\\86180\\AppData\\Local\\Temp\\ipykernel_119224\\2807822913.py:20: FutureWarning: The frame.append method is deprecated and will be removed from pandas in a future version. Use pandas.concat instead.\n",
      "  df = df.append({'feature': feature_vector, 'label': label}, ignore_index=True)\n",
      "C:\\Users\\86180\\AppData\\Local\\Temp\\ipykernel_119224\\2807822913.py:20: FutureWarning: The frame.append method is deprecated and will be removed from pandas in a future version. Use pandas.concat instead.\n",
      "  df = df.append({'feature': feature_vector, 'label': label}, ignore_index=True)\n",
      "C:\\Users\\86180\\AppData\\Local\\Temp\\ipykernel_119224\\2807822913.py:20: FutureWarning: The frame.append method is deprecated and will be removed from pandas in a future version. Use pandas.concat instead.\n",
      "  df = df.append({'feature': feature_vector, 'label': label}, ignore_index=True)\n",
      "C:\\Users\\86180\\AppData\\Local\\Temp\\ipykernel_119224\\2807822913.py:20: FutureWarning: The frame.append method is deprecated and will be removed from pandas in a future version. Use pandas.concat instead.\n",
      "  df = df.append({'feature': feature_vector, 'label': label}, ignore_index=True)\n",
      "C:\\Users\\86180\\AppData\\Local\\Temp\\ipykernel_119224\\2807822913.py:20: FutureWarning: The frame.append method is deprecated and will be removed from pandas in a future version. Use pandas.concat instead.\n",
      "  df = df.append({'feature': feature_vector, 'label': label}, ignore_index=True)\n",
      "C:\\Users\\86180\\AppData\\Local\\Temp\\ipykernel_119224\\2807822913.py:20: FutureWarning: The frame.append method is deprecated and will be removed from pandas in a future version. Use pandas.concat instead.\n",
      "  df = df.append({'feature': feature_vector, 'label': label}, ignore_index=True)\n",
      "C:\\Users\\86180\\AppData\\Local\\Temp\\ipykernel_119224\\2807822913.py:20: FutureWarning: The frame.append method is deprecated and will be removed from pandas in a future version. Use pandas.concat instead.\n",
      "  df = df.append({'feature': feature_vector, 'label': label}, ignore_index=True)\n",
      "C:\\Users\\86180\\AppData\\Local\\Temp\\ipykernel_119224\\2807822913.py:20: FutureWarning: The frame.append method is deprecated and will be removed from pandas in a future version. Use pandas.concat instead.\n",
      "  df = df.append({'feature': feature_vector, 'label': label}, ignore_index=True)\n",
      "C:\\Users\\86180\\AppData\\Local\\Temp\\ipykernel_119224\\2807822913.py:20: FutureWarning: The frame.append method is deprecated and will be removed from pandas in a future version. Use pandas.concat instead.\n",
      "  df = df.append({'feature': feature_vector, 'label': label}, ignore_index=True)\n",
      "C:\\Users\\86180\\AppData\\Local\\Temp\\ipykernel_119224\\2807822913.py:20: FutureWarning: The frame.append method is deprecated and will be removed from pandas in a future version. Use pandas.concat instead.\n",
      "  df = df.append({'feature': feature_vector, 'label': label}, ignore_index=True)\n",
      "C:\\Users\\86180\\AppData\\Local\\Temp\\ipykernel_119224\\2807822913.py:20: FutureWarning: The frame.append method is deprecated and will be removed from pandas in a future version. Use pandas.concat instead.\n",
      "  df = df.append({'feature': feature_vector, 'label': label}, ignore_index=True)\n",
      "C:\\Users\\86180\\AppData\\Local\\Temp\\ipykernel_119224\\2807822913.py:20: FutureWarning: The frame.append method is deprecated and will be removed from pandas in a future version. Use pandas.concat instead.\n",
      "  df = df.append({'feature': feature_vector, 'label': label}, ignore_index=True)\n"
     ]
    },
    {
     "name": "stdout",
     "output_type": "stream",
     "text": [
      "特征向量和标签已保存到 mfcc.csv 中。\n"
     ]
    }
   ],
   "source": [
    "import os\n",
    "import pandas as pd\n",
    "import librosa\n",
    "\n",
    "# 文件夹路径\n",
    "data_folder = 'data'\n",
    "full_folder = os.path.join(data_folder, 'full')\n",
    "labels_csv = os.path.join(full_folder, 'labels.csv')\n",
    "\n",
    "# 创建空的DataFrame来存储特征向量和标签\n",
    "df = pd.DataFrame(columns=['feature', 'label'])\n",
    "\n",
    "# 遍历labels.csv中的每一行\n",
    "with open(labels_csv, 'r') as f:\n",
    "    for line in f:\n",
    "        label, wav_filepath = line.strip().split(' ')\n",
    "        x, sr = librosa.load(wav_filepath)\n",
    "        mfccs = librosa.feature.mfcc(y=x, sr=sr, n_mfcc=13)  # 选择13个MFCC系数\n",
    "        feature_vector = mfccs.flatten().tolist()\n",
    "        df = df.append({'feature': feature_vector, 'label': label}, ignore_index=True)\n",
    "\n",
    "# 保存到CSV文件\n",
    "output_csv = 'mfcc.csv'\n",
    "df.to_csv(output_csv, index=False)\n",
    "\n",
    "print(f\"特征向量和标签已保存到 {output_csv} 中。\")"
   ]
  },
  {
   "cell_type": "code",
   "execution_count": 11,
   "id": "d7106bc5-742e-43de-ab50-a372c1da4f3c",
   "metadata": {},
   "outputs": [
    {
     "name": "stderr",
     "output_type": "stream",
     "text": [
      "C:\\Users\\86180\\AppData\\Local\\Temp\\ipykernel_119224\\4039469726.py:20: FutureWarning: The frame.append method is deprecated and will be removed from pandas in a future version. Use pandas.concat instead.\n",
      "  df = df.append({'feature': feature_vector, 'label': label}, ignore_index=True)\n",
      "C:\\Users\\86180\\AppData\\Local\\Temp\\ipykernel_119224\\4039469726.py:20: FutureWarning: The frame.append method is deprecated and will be removed from pandas in a future version. Use pandas.concat instead.\n",
      "  df = df.append({'feature': feature_vector, 'label': label}, ignore_index=True)\n",
      "C:\\Users\\86180\\AppData\\Local\\Temp\\ipykernel_119224\\4039469726.py:20: FutureWarning: The frame.append method is deprecated and will be removed from pandas in a future version. Use pandas.concat instead.\n",
      "  df = df.append({'feature': feature_vector, 'label': label}, ignore_index=True)\n",
      "C:\\Users\\86180\\AppData\\Local\\Temp\\ipykernel_119224\\4039469726.py:20: FutureWarning: The frame.append method is deprecated and will be removed from pandas in a future version. Use pandas.concat instead.\n",
      "  df = df.append({'feature': feature_vector, 'label': label}, ignore_index=True)\n",
      "C:\\Users\\86180\\AppData\\Local\\Temp\\ipykernel_119224\\4039469726.py:20: FutureWarning: The frame.append method is deprecated and will be removed from pandas in a future version. Use pandas.concat instead.\n",
      "  df = df.append({'feature': feature_vector, 'label': label}, ignore_index=True)\n",
      "C:\\Users\\86180\\AppData\\Local\\Temp\\ipykernel_119224\\4039469726.py:20: FutureWarning: The frame.append method is deprecated and will be removed from pandas in a future version. Use pandas.concat instead.\n",
      "  df = df.append({'feature': feature_vector, 'label': label}, ignore_index=True)\n",
      "C:\\Users\\86180\\AppData\\Local\\Temp\\ipykernel_119224\\4039469726.py:20: FutureWarning: The frame.append method is deprecated and will be removed from pandas in a future version. Use pandas.concat instead.\n",
      "  df = df.append({'feature': feature_vector, 'label': label}, ignore_index=True)\n",
      "C:\\Users\\86180\\AppData\\Local\\Temp\\ipykernel_119224\\4039469726.py:20: FutureWarning: The frame.append method is deprecated and will be removed from pandas in a future version. Use pandas.concat instead.\n",
      "  df = df.append({'feature': feature_vector, 'label': label}, ignore_index=True)\n",
      "C:\\Users\\86180\\AppData\\Local\\Temp\\ipykernel_119224\\4039469726.py:20: FutureWarning: The frame.append method is deprecated and will be removed from pandas in a future version. Use pandas.concat instead.\n",
      "  df = df.append({'feature': feature_vector, 'label': label}, ignore_index=True)\n",
      "C:\\Users\\86180\\AppData\\Local\\Temp\\ipykernel_119224\\4039469726.py:20: FutureWarning: The frame.append method is deprecated and will be removed from pandas in a future version. Use pandas.concat instead.\n",
      "  df = df.append({'feature': feature_vector, 'label': label}, ignore_index=True)\n",
      "C:\\Users\\86180\\AppData\\Local\\Temp\\ipykernel_119224\\4039469726.py:20: FutureWarning: The frame.append method is deprecated and will be removed from pandas in a future version. Use pandas.concat instead.\n",
      "  df = df.append({'feature': feature_vector, 'label': label}, ignore_index=True)\n",
      "C:\\Users\\86180\\AppData\\Local\\Temp\\ipykernel_119224\\4039469726.py:20: FutureWarning: The frame.append method is deprecated and will be removed from pandas in a future version. Use pandas.concat instead.\n",
      "  df = df.append({'feature': feature_vector, 'label': label}, ignore_index=True)\n",
      "C:\\Users\\86180\\AppData\\Local\\Temp\\ipykernel_119224\\4039469726.py:20: FutureWarning: The frame.append method is deprecated and will be removed from pandas in a future version. Use pandas.concat instead.\n",
      "  df = df.append({'feature': feature_vector, 'label': label}, ignore_index=True)\n",
      "C:\\Users\\86180\\AppData\\Local\\Temp\\ipykernel_119224\\4039469726.py:20: FutureWarning: The frame.append method is deprecated and will be removed from pandas in a future version. Use pandas.concat instead.\n",
      "  df = df.append({'feature': feature_vector, 'label': label}, ignore_index=True)\n",
      "C:\\Users\\86180\\AppData\\Local\\Temp\\ipykernel_119224\\4039469726.py:20: FutureWarning: The frame.append method is deprecated and will be removed from pandas in a future version. Use pandas.concat instead.\n",
      "  df = df.append({'feature': feature_vector, 'label': label}, ignore_index=True)\n",
      "C:\\Users\\86180\\AppData\\Local\\Temp\\ipykernel_119224\\4039469726.py:20: FutureWarning: The frame.append method is deprecated and will be removed from pandas in a future version. Use pandas.concat instead.\n",
      "  df = df.append({'feature': feature_vector, 'label': label}, ignore_index=True)\n",
      "C:\\Users\\86180\\AppData\\Local\\Temp\\ipykernel_119224\\4039469726.py:20: FutureWarning: The frame.append method is deprecated and will be removed from pandas in a future version. Use pandas.concat instead.\n",
      "  df = df.append({'feature': feature_vector, 'label': label}, ignore_index=True)\n",
      "C:\\Users\\86180\\AppData\\Local\\Temp\\ipykernel_119224\\4039469726.py:20: FutureWarning: The frame.append method is deprecated and will be removed from pandas in a future version. Use pandas.concat instead.\n",
      "  df = df.append({'feature': feature_vector, 'label': label}, ignore_index=True)\n",
      "C:\\Users\\86180\\AppData\\Local\\Temp\\ipykernel_119224\\4039469726.py:20: FutureWarning: The frame.append method is deprecated and will be removed from pandas in a future version. Use pandas.concat instead.\n",
      "  df = df.append({'feature': feature_vector, 'label': label}, ignore_index=True)\n",
      "C:\\Users\\86180\\AppData\\Local\\Temp\\ipykernel_119224\\4039469726.py:20: FutureWarning: The frame.append method is deprecated and will be removed from pandas in a future version. Use pandas.concat instead.\n",
      "  df = df.append({'feature': feature_vector, 'label': label}, ignore_index=True)\n",
      "C:\\Users\\86180\\AppData\\Local\\Temp\\ipykernel_119224\\4039469726.py:20: FutureWarning: The frame.append method is deprecated and will be removed from pandas in a future version. Use pandas.concat instead.\n",
      "  df = df.append({'feature': feature_vector, 'label': label}, ignore_index=True)\n",
      "C:\\Users\\86180\\AppData\\Local\\Temp\\ipykernel_119224\\4039469726.py:20: FutureWarning: The frame.append method is deprecated and will be removed from pandas in a future version. Use pandas.concat instead.\n",
      "  df = df.append({'feature': feature_vector, 'label': label}, ignore_index=True)\n",
      "C:\\Users\\86180\\AppData\\Local\\Temp\\ipykernel_119224\\4039469726.py:20: FutureWarning: The frame.append method is deprecated and will be removed from pandas in a future version. Use pandas.concat instead.\n",
      "  df = df.append({'feature': feature_vector, 'label': label}, ignore_index=True)\n",
      "C:\\Users\\86180\\AppData\\Local\\Temp\\ipykernel_119224\\4039469726.py:20: FutureWarning: The frame.append method is deprecated and will be removed from pandas in a future version. Use pandas.concat instead.\n",
      "  df = df.append({'feature': feature_vector, 'label': label}, ignore_index=True)\n",
      "C:\\Users\\86180\\AppData\\Local\\Temp\\ipykernel_119224\\4039469726.py:20: FutureWarning: The frame.append method is deprecated and will be removed from pandas in a future version. Use pandas.concat instead.\n",
      "  df = df.append({'feature': feature_vector, 'label': label}, ignore_index=True)\n",
      "C:\\Users\\86180\\AppData\\Local\\Temp\\ipykernel_119224\\4039469726.py:20: FutureWarning: The frame.append method is deprecated and will be removed from pandas in a future version. Use pandas.concat instead.\n",
      "  df = df.append({'feature': feature_vector, 'label': label}, ignore_index=True)\n",
      "C:\\Users\\86180\\AppData\\Local\\Temp\\ipykernel_119224\\4039469726.py:20: FutureWarning: The frame.append method is deprecated and will be removed from pandas in a future version. Use pandas.concat instead.\n",
      "  df = df.append({'feature': feature_vector, 'label': label}, ignore_index=True)\n",
      "C:\\Users\\86180\\AppData\\Local\\Temp\\ipykernel_119224\\4039469726.py:20: FutureWarning: The frame.append method is deprecated and will be removed from pandas in a future version. Use pandas.concat instead.\n",
      "  df = df.append({'feature': feature_vector, 'label': label}, ignore_index=True)\n",
      "C:\\Users\\86180\\AppData\\Local\\Temp\\ipykernel_119224\\4039469726.py:20: FutureWarning: The frame.append method is deprecated and will be removed from pandas in a future version. Use pandas.concat instead.\n",
      "  df = df.append({'feature': feature_vector, 'label': label}, ignore_index=True)\n",
      "C:\\Users\\86180\\AppData\\Local\\Temp\\ipykernel_119224\\4039469726.py:20: FutureWarning: The frame.append method is deprecated and will be removed from pandas in a future version. Use pandas.concat instead.\n",
      "  df = df.append({'feature': feature_vector, 'label': label}, ignore_index=True)\n",
      "C:\\Users\\86180\\AppData\\Local\\Temp\\ipykernel_119224\\4039469726.py:20: FutureWarning: The frame.append method is deprecated and will be removed from pandas in a future version. Use pandas.concat instead.\n",
      "  df = df.append({'feature': feature_vector, 'label': label}, ignore_index=True)\n",
      "C:\\Users\\86180\\AppData\\Local\\Temp\\ipykernel_119224\\4039469726.py:20: FutureWarning: The frame.append method is deprecated and will be removed from pandas in a future version. Use pandas.concat instead.\n",
      "  df = df.append({'feature': feature_vector, 'label': label}, ignore_index=True)\n",
      "C:\\Users\\86180\\AppData\\Local\\Temp\\ipykernel_119224\\4039469726.py:20: FutureWarning: The frame.append method is deprecated and will be removed from pandas in a future version. Use pandas.concat instead.\n",
      "  df = df.append({'feature': feature_vector, 'label': label}, ignore_index=True)\n",
      "C:\\Users\\86180\\AppData\\Local\\Temp\\ipykernel_119224\\4039469726.py:20: FutureWarning: The frame.append method is deprecated and will be removed from pandas in a future version. Use pandas.concat instead.\n",
      "  df = df.append({'feature': feature_vector, 'label': label}, ignore_index=True)\n",
      "C:\\Users\\86180\\AppData\\Local\\Temp\\ipykernel_119224\\4039469726.py:20: FutureWarning: The frame.append method is deprecated and will be removed from pandas in a future version. Use pandas.concat instead.\n",
      "  df = df.append({'feature': feature_vector, 'label': label}, ignore_index=True)\n",
      "C:\\Users\\86180\\AppData\\Local\\Temp\\ipykernel_119224\\4039469726.py:20: FutureWarning: The frame.append method is deprecated and will be removed from pandas in a future version. Use pandas.concat instead.\n",
      "  df = df.append({'feature': feature_vector, 'label': label}, ignore_index=True)\n",
      "C:\\Users\\86180\\AppData\\Local\\Temp\\ipykernel_119224\\4039469726.py:20: FutureWarning: The frame.append method is deprecated and will be removed from pandas in a future version. Use pandas.concat instead.\n",
      "  df = df.append({'feature': feature_vector, 'label': label}, ignore_index=True)\n",
      "C:\\Users\\86180\\AppData\\Local\\Temp\\ipykernel_119224\\4039469726.py:20: FutureWarning: The frame.append method is deprecated and will be removed from pandas in a future version. Use pandas.concat instead.\n",
      "  df = df.append({'feature': feature_vector, 'label': label}, ignore_index=True)\n",
      "C:\\Users\\86180\\AppData\\Local\\Temp\\ipykernel_119224\\4039469726.py:20: FutureWarning: The frame.append method is deprecated and will be removed from pandas in a future version. Use pandas.concat instead.\n",
      "  df = df.append({'feature': feature_vector, 'label': label}, ignore_index=True)\n",
      "C:\\Users\\86180\\AppData\\Local\\Temp\\ipykernel_119224\\4039469726.py:20: FutureWarning: The frame.append method is deprecated and will be removed from pandas in a future version. Use pandas.concat instead.\n",
      "  df = df.append({'feature': feature_vector, 'label': label}, ignore_index=True)\n",
      "C:\\Users\\86180\\AppData\\Local\\Temp\\ipykernel_119224\\4039469726.py:20: FutureWarning: The frame.append method is deprecated and will be removed from pandas in a future version. Use pandas.concat instead.\n",
      "  df = df.append({'feature': feature_vector, 'label': label}, ignore_index=True)\n",
      "C:\\Users\\86180\\AppData\\Local\\Temp\\ipykernel_119224\\4039469726.py:20: FutureWarning: The frame.append method is deprecated and will be removed from pandas in a future version. Use pandas.concat instead.\n",
      "  df = df.append({'feature': feature_vector, 'label': label}, ignore_index=True)\n",
      "C:\\Users\\86180\\AppData\\Local\\Temp\\ipykernel_119224\\4039469726.py:20: FutureWarning: The frame.append method is deprecated and will be removed from pandas in a future version. Use pandas.concat instead.\n",
      "  df = df.append({'feature': feature_vector, 'label': label}, ignore_index=True)\n",
      "C:\\Users\\86180\\AppData\\Local\\Temp\\ipykernel_119224\\4039469726.py:20: FutureWarning: The frame.append method is deprecated and will be removed from pandas in a future version. Use pandas.concat instead.\n",
      "  df = df.append({'feature': feature_vector, 'label': label}, ignore_index=True)\n",
      "C:\\Users\\86180\\AppData\\Local\\Temp\\ipykernel_119224\\4039469726.py:20: FutureWarning: The frame.append method is deprecated and will be removed from pandas in a future version. Use pandas.concat instead.\n",
      "  df = df.append({'feature': feature_vector, 'label': label}, ignore_index=True)\n",
      "C:\\Users\\86180\\AppData\\Local\\Temp\\ipykernel_119224\\4039469726.py:20: FutureWarning: The frame.append method is deprecated and will be removed from pandas in a future version. Use pandas.concat instead.\n",
      "  df = df.append({'feature': feature_vector, 'label': label}, ignore_index=True)\n",
      "C:\\Users\\86180\\AppData\\Local\\Temp\\ipykernel_119224\\4039469726.py:20: FutureWarning: The frame.append method is deprecated and will be removed from pandas in a future version. Use pandas.concat instead.\n",
      "  df = df.append({'feature': feature_vector, 'label': label}, ignore_index=True)\n",
      "C:\\Users\\86180\\AppData\\Local\\Temp\\ipykernel_119224\\4039469726.py:20: FutureWarning: The frame.append method is deprecated and will be removed from pandas in a future version. Use pandas.concat instead.\n",
      "  df = df.append({'feature': feature_vector, 'label': label}, ignore_index=True)\n",
      "C:\\Users\\86180\\AppData\\Local\\Temp\\ipykernel_119224\\4039469726.py:20: FutureWarning: The frame.append method is deprecated and will be removed from pandas in a future version. Use pandas.concat instead.\n",
      "  df = df.append({'feature': feature_vector, 'label': label}, ignore_index=True)\n",
      "C:\\Users\\86180\\AppData\\Local\\Temp\\ipykernel_119224\\4039469726.py:20: FutureWarning: The frame.append method is deprecated and will be removed from pandas in a future version. Use pandas.concat instead.\n",
      "  df = df.append({'feature': feature_vector, 'label': label}, ignore_index=True)\n",
      "C:\\Users\\86180\\AppData\\Local\\Temp\\ipykernel_119224\\4039469726.py:20: FutureWarning: The frame.append method is deprecated and will be removed from pandas in a future version. Use pandas.concat instead.\n",
      "  df = df.append({'feature': feature_vector, 'label': label}, ignore_index=True)\n",
      "C:\\Users\\86180\\AppData\\Local\\Temp\\ipykernel_119224\\4039469726.py:20: FutureWarning: The frame.append method is deprecated and will be removed from pandas in a future version. Use pandas.concat instead.\n",
      "  df = df.append({'feature': feature_vector, 'label': label}, ignore_index=True)\n",
      "C:\\Users\\86180\\AppData\\Local\\Temp\\ipykernel_119224\\4039469726.py:20: FutureWarning: The frame.append method is deprecated and will be removed from pandas in a future version. Use pandas.concat instead.\n",
      "  df = df.append({'feature': feature_vector, 'label': label}, ignore_index=True)\n",
      "C:\\Users\\86180\\AppData\\Local\\Temp\\ipykernel_119224\\4039469726.py:20: FutureWarning: The frame.append method is deprecated and will be removed from pandas in a future version. Use pandas.concat instead.\n",
      "  df = df.append({'feature': feature_vector, 'label': label}, ignore_index=True)\n",
      "C:\\Users\\86180\\AppData\\Local\\Temp\\ipykernel_119224\\4039469726.py:20: FutureWarning: The frame.append method is deprecated and will be removed from pandas in a future version. Use pandas.concat instead.\n",
      "  df = df.append({'feature': feature_vector, 'label': label}, ignore_index=True)\n",
      "C:\\Users\\86180\\AppData\\Local\\Temp\\ipykernel_119224\\4039469726.py:20: FutureWarning: The frame.append method is deprecated and will be removed from pandas in a future version. Use pandas.concat instead.\n",
      "  df = df.append({'feature': feature_vector, 'label': label}, ignore_index=True)\n"
     ]
    },
    {
     "name": "stdout",
     "output_type": "stream",
     "text": [
      "只包含能量特征的特征向量和标签已保存到 energy.csv 中。\n"
     ]
    },
    {
     "name": "stderr",
     "output_type": "stream",
     "text": [
      "C:\\Users\\86180\\AppData\\Local\\Temp\\ipykernel_119224\\4039469726.py:20: FutureWarning: The frame.append method is deprecated and will be removed from pandas in a future version. Use pandas.concat instead.\n",
      "  df = df.append({'feature': feature_vector, 'label': label}, ignore_index=True)\n",
      "C:\\Users\\86180\\AppData\\Local\\Temp\\ipykernel_119224\\4039469726.py:20: FutureWarning: The frame.append method is deprecated and will be removed from pandas in a future version. Use pandas.concat instead.\n",
      "  df = df.append({'feature': feature_vector, 'label': label}, ignore_index=True)\n",
      "C:\\Users\\86180\\AppData\\Local\\Temp\\ipykernel_119224\\4039469726.py:20: FutureWarning: The frame.append method is deprecated and will be removed from pandas in a future version. Use pandas.concat instead.\n",
      "  df = df.append({'feature': feature_vector, 'label': label}, ignore_index=True)\n",
      "C:\\Users\\86180\\AppData\\Local\\Temp\\ipykernel_119224\\4039469726.py:20: FutureWarning: The frame.append method is deprecated and will be removed from pandas in a future version. Use pandas.concat instead.\n",
      "  df = df.append({'feature': feature_vector, 'label': label}, ignore_index=True)\n"
     ]
    }
   ],
   "source": [
    "import os\n",
    "import pandas as pd\n",
    "import librosa\n",
    "\n",
    "# 文件夹路径\n",
    "data_folder = 'data'\n",
    "full_folder = os.path.join(data_folder, 'full')\n",
    "labels_csv = os.path.join(full_folder, 'labels.csv')\n",
    "\n",
    "# 创建空的DataFrame来存储特征向量和标签\n",
    "df = pd.DataFrame(columns=['feature', 'label'])\n",
    "\n",
    "# 遍历labels.csv中的每一行\n",
    "with open(labels_csv, 'r') as f:\n",
    "    for line in f:\n",
    "        label, wav_filepath = line.strip().split(' ')\n",
    "        x, sr = librosa.load(wav_filepath)\n",
    "        energy = sum(x**2) / len(x)  # 计算能量\n",
    "        feature_vector = [energy]\n",
    "        df = df.append({'feature': feature_vector, 'label': label}, ignore_index=True)\n",
    "\n",
    "# 保存到CSV文件\n",
    "output_csv = 'energy.csv'\n",
    "df.to_csv(output_csv, index=False)\n",
    "\n",
    "print(f\"只包含能量特征的特征向量和标签已保存到 {output_csv} 中。\")"
   ]
  }
 ],
 "metadata": {
  "kernelspec": {
   "display_name": "py38kernel",
   "language": "python",
   "name": "py38-kernel"
  },
  "language_info": {
   "codemirror_mode": {
    "name": "ipython",
    "version": 3
   },
   "file_extension": ".py",
   "mimetype": "text/x-python",
   "name": "python",
   "nbconvert_exporter": "python",
   "pygments_lexer": "ipython3",
   "version": "3.8.18"
  }
 },
 "nbformat": 4,
 "nbformat_minor": 5
}
