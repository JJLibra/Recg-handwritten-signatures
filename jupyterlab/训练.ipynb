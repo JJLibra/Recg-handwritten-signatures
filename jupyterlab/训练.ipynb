{
 "cells": [
  {
   "cell_type": "markdown",
   "id": "acf14684-4616-4fff-b408-2515124f04c9",
   "metadata": {},
   "source": [
    "### 支持向量机"
   ]
  },
  {
   "cell_type": "code",
   "execution_count": 72,
   "id": "0d2ac42f-e83b-421b-81fa-47cd35e5ac5b",
   "metadata": {},
   "outputs": [
    {
     "name": "stdout",
     "output_type": "stream",
     "text": [
      "精确度: 1.00\n",
      "召回率: 1.00\n",
      "F1 分数: 1.00\n"
     ]
    }
   ],
   "source": [
    "import pandas as pd\n",
    "from sklearn.model_selection import train_test_split\n",
    "from sklearn.svm import SVC\n",
    "from sklearn.metrics import precision_score, recall_score, f1_score\n",
    "\n",
    "# 从feature_vectors.csv中导入数据\n",
    "# data = pd.read_csv('features/feature.csv')\n",
    "data = pd.read_csv('p4_test_vectors.csv')\n",
    "# data = pd.read_csv('feature_vectors.csv')\n",
    "\n",
    "# 划分训练集和测试集\n",
    "X = data.drop(columns=['label'])  # 特征向量\n",
    "y = data['label']  # 标签\n",
    "X_train, X_test, y_train, y_test = train_test_split(X, y, test_size=0.33, random_state=42)\n",
    "\n",
    "# 使用支持向量机（SVM）模型\n",
    "# model = SVC(kernel='linear')\n",
    "model = SVC(kernel='linear', C=0.001)\n",
    "\n",
    "# 训练模型\n",
    "model.fit(X_train, y_train)\n",
    "\n",
    "# 在测试集上评估模型性能\n",
    "y_pred = model.predict(X_test)\n",
    "precision = precision_score(y_test, y_pred, average='weighted')  # 使用加权平均\n",
    "recall = recall_score(y_test, y_pred, average='weighted')\n",
    "f1 = f1_score(y_test, y_pred, average='weighted')\n",
    "\n",
    "print(f\"精确度: {precision:.2f}\")\n",
    "print(f\"召回率: {recall:.2f}\")\n",
    "print(f\"F1 分数: {f1:.2f}\")"
   ]
  },
  {
   "cell_type": "code",
   "execution_count": 73,
   "id": "f29c466f-d04f-4973-9d4c-208aaea22eb2",
   "metadata": {},
   "outputs": [
    {
     "name": "stdout",
     "output_type": "stream",
     "text": [
      "精确度: 0.96\n",
      "召回率: 0.95\n",
      "F1 分数: 0.95\n"
     ]
    }
   ],
   "source": [
    "from sklearn.svm import SVC\n",
    "import pandas as pd\n",
    "from sklearn.model_selection import train_test_split\n",
    "\n",
    "# 加载数据\n",
    "data = pd.read_csv('p4_test_vectors.csv')\n",
    "X = data.drop(columns=['label'])  # 特征向量\n",
    "y = data['label']  # 标签\n",
    "\n",
    "# 划分训练集和测试集\n",
    "X_train, X_test, y_train, y_test = train_test_split(X, y, test_size=0.33, random_state=42)\n",
    "\n",
    "# 创建SVM模型，使用最佳的C值\n",
    "model = SVC(kernel='linear', C=0.01)\n",
    "\n",
    "# 训练模型\n",
    "model.fit(X_train, y_train)\n",
    "\n",
    "# 在测试集上评估模型性能\n",
    "y_pred = model.predict(X_test)\n",
    "\n",
    "# 计算评估指标\n",
    "from sklearn.metrics import precision_score, recall_score, f1_score\n",
    "\n",
    "precision = precision_score(y_test, y_pred, average='weighted')  # 使用加权平均\n",
    "recall = recall_score(y_test, y_pred, average='weighted')\n",
    "f1 = f1_score(y_test, y_pred, average='weighted')\n",
    "\n",
    "print(f\"精确度: {precision:.2f}\")\n",
    "print(f\"召回率: {recall:.2f}\")\n",
    "print(f\"F1 分数: {f1:.2f}\")"
   ]
  },
  {
   "cell_type": "code",
   "execution_count": null,
   "id": "6bf5f85e-61d5-4abd-bb5a-429ec3626346",
   "metadata": {},
   "outputs": [],
   "source": [
    "import os\n",
    "import librosa\n",
    "import numpy as np\n",
    "from sklearn.model_selection import train_test_split\n",
    "from sklearn.preprocessing import StandardScaler\n",
    "from sklearn.svm import SVC\n",
    "from sklearn.metrics import classification_report, accuracy_score\n",
    "from sklearn.metrics import accuracy_score, precision_score, recall_score, f1_score\n",
    "from sklearn.metrics import confusion_matrix\n",
    "\n",
    "# 用于提取音频特征的函数\n",
    "def extract_features(file_name):\n",
    "    # 加载音频文件\n",
    "    y, sr = librosa.load(file_name, sr=None)\n",
    "    \n",
    "    # 提取MFCC特征\n",
    "    mfcc = librosa.feature.mfcc(y=y, sr=sr)\n",
    "    mfcc_mean = np.mean(mfcc, axis=1)\n",
    "    \n",
    "    # 额外特征\n",
    "    zero_crossing_rate = np.mean(librosa.feature.zero_crossing_rate(y=y)) # 零交叉率\n",
    "    spectral_centroids = np.mean(librosa.feature.spectral_centroid(y=y, sr=sr)) # 频谱质心\n",
    "    spectral_contrast = np.mean(librosa.feature.spectral_contrast(y=y, sr=sr)) # 频谱对比度\n",
    "    spectral_rolloff = np.mean(librosa.feature.spectral_rolloff(y=y, sr=sr)) # 添加频谱滚降点\n",
    "    spectral_flatness = np.mean(librosa.feature.spectral_flatness(y=y)) # 添加频谱平坦度\n",
    "    \n",
    "    # 结合所有特征\n",
    "    combined_features = np.hstack((mfcc_mean, zero_crossing_rate, spectral_centroids, spectral_contrast, spectral_rolloff, spectral_flatness))\n",
    "    # combined_features = np.hstack((mfcc_mean, zero_crossing_rate, spectral_centroids, spectral_contrast))\n",
    "    \n",
    "    return combined_features\n",
    "\n",
    "# 用于存储特征和标签的列表\n",
    "features = []\n",
    "labels = []\n",
    "\n",
    "# 对每个文件夹进行迭代\n",
    "for label in range(1, 5):  # 标签1到4\n",
    "    folder_path = f'data/{label}'\n",
    "    audio_files = [os.path.join(folder_path, file) for file in os.listdir(folder_path) if file.endswith('.wav')]\n",
    "    \n",
    "    for file in audio_files:\n",
    "        # 提取特征\n",
    "        extracted_features = extract_features(file)\n",
    "        # 添加特征和标签\n",
    "        features.append(extracted_features)\n",
    "        labels.append(label)\n",
    "\n",
    "# 转换为适合模型训练的格式\n",
    "features = np.array(features)\n",
    "labels = np.array(labels)\n",
    "\n",
    "# 分割数据集\n",
    "X_train, X_test, y_train, y_test = train_test_split(features, labels, test_size=0.3, random_state=42)\n",
    "\n",
    "# 数据标准化\n",
    "scaler = StandardScaler()\n",
    "X_train = scaler.fit_transform(X_train)\n",
    "X_test = scaler.transform(X_test)\n",
    "\n",
    "# 初始化和训练模型\n",
    "# model = SVC(kernel='linear')\n",
    "# 使用找到的最佳参数初始化和训练模型\n",
    "model = SVC(C=11.963459175608655, kernel='rbf', gamma=0.054344375598616296)\n",
    "model.fit(X_train, y_train)\n",
    "\n",
    "# 在测试集上评估模型\n",
    "predictions = model.predict(X_test)\n",
    "print(classification_report(y_test, predictions))\n",
    "print(\"Accuracy:\", accuracy_score(y_test, predictions))\n",
    "print(confusion_matrix(y_test, predictions))\n",
    "\n",
    "# 在测试集上评估模型\n",
    "predictions = model.predict(X_test)\n",
    "# 输出准确度\n",
    "accuracy = accuracy_score(y_test, predictions)\n",
    "print(\"Accuracy:\", accuracy)\n",
    "# 输出精确度\n",
    "precision = precision_score(y_test, predictions, average='weighted')\n",
    "print(\"Precision:\", precision)\n",
    "# 输出召回率\n",
    "recall = recall_score(y_test, predictions, average='weighted')\n",
    "print(\"Recall:\", recall)\n",
    "# 输出F1得分\n",
    "f1 = f1_score(y_test, predictions, average='weighted')\n",
    "print(\"F1 Score:\", f1)"
   ]
  },
  {
   "cell_type": "code",
   "execution_count": null,
   "id": "159a8c1c-e299-4e26-b2af-8e5c4bb60bfd",
   "metadata": {},
   "outputs": [],
   "source": [
    "from sklearn.model_selection import RandomizedSearchCV\n",
    "from scipy.stats import expon, randint\n",
    "\n",
    "# 假设你已经有了X_train和y_train\n",
    "\n",
    "# 设置SVC模型\n",
    "model = make_pipeline(StandardScaler(), SVC())\n",
    "\n",
    "# 定义要搜索的参数分布\n",
    "param_distributions = {\n",
    "    'svc__C': expon(scale=10),  # 对于连续参数，可以使用分布\n",
    "    'svc__kernel': ['linear', 'rbf'],  # 对于分类参数，仍然是列表\n",
    "    'svc__gamma': expon(scale=.1)  # 使用分布来随机采样\n",
    "}\n",
    "\n",
    "# 创建RandomizedSearchCV对象\n",
    "random_search = RandomizedSearchCV(model, param_distributions, n_iter=100, cv=5, scoring='accuracy')\n",
    "\n",
    "# 进行搜索\n",
    "random_search.fit(X_train, y_train)\n",
    "\n",
    "# 打印最佳参数\n",
    "print(\"Best parameters:\", random_search.best_params_)\n",
    "print(\"Best cross-validation score:\", random_search.best_score_)"
   ]
  },
  {
   "cell_type": "code",
   "execution_count": null,
   "id": "48a68da1-f5ab-4c9a-a561-bb0cf89d7f25",
   "metadata": {},
   "outputs": [],
   "source": [
    "import numpy as np\n",
    "import matplotlib.pyplot as plt\n",
    "from sklearn.model_selection import learning_curve\n",
    "from sklearn.pipeline import make_pipeline\n",
    "from sklearn.preprocessing import StandardScaler\n",
    "from sklearn.svm import SVC\n",
    "\n",
    "# 定义计算学习曲线的函数\n",
    "def plot_learning_curve(estimator, title, X, y, ylim=None, cv=None,\n",
    "                        n_jobs=None, train_sizes=np.linspace(.1, 1.0, 10)):\n",
    "    plt.figure()\n",
    "    plt.title(title)\n",
    "    if ylim is not None:\n",
    "        plt.ylim(*ylim)\n",
    "    plt.xlabel(\"Training examples\")\n",
    "    plt.ylabel(\"Score\")\n",
    "    train_sizes, train_scores, test_scores = learning_curve(\n",
    "        estimator, X, y, cv=cv, n_jobs=n_jobs, train_sizes=train_sizes)\n",
    "    train_scores_mean = np.mean(train_scores, axis=1)\n",
    "    train_scores_std = np.std(train_scores, axis=1)\n",
    "    test_scores_mean = np.mean(test_scores, axis=1)\n",
    "    test_scores_std = np.std(test_scores, axis=1)\n",
    "    plt.grid()\n",
    "\n",
    "    plt.fill_between(train_sizes, train_scores_mean - train_scores_std,\n",
    "                     train_scores_mean + train_scores_std, alpha=0.1,\n",
    "                     color=\"r\")\n",
    "    plt.fill_between(train_sizes, test_scores_mean - test_scores_std,\n",
    "                     test_scores_mean + test_scores_std, alpha=0.1, color=\"g\")\n",
    "    plt.plot(train_sizes, train_scores_mean, 'o-', color=\"r\",\n",
    "             label=\"Training score\")\n",
    "    plt.plot(train_sizes, test_scores_mean, 'o-', color=\"g\",\n",
    "             label=\"Cross-validation score\")\n",
    "\n",
    "    plt.legend(loc=\"best\")\n",
    "    return plt\n",
    "\n",
    "# 定义模型\n",
    "# model = make_pipeline(StandardScaler(), SVC(kernel='linear'))\n",
    "model = make_pipeline(StandardScaler(), SVC(C=11.963459175608655, kernel='rbf', gamma=0.054344375598616296))\n",
    "\n",
    "# 绘制学习曲线\n",
    "plot_learning_curve(model, \"Learning Curve (SVC, linear kernel)\", X_train, y_train, cv=5, n_jobs=-1)\n",
    "\n",
    "plt.show()"
   ]
  },
  {
   "cell_type": "code",
   "execution_count": null,
   "id": "e75f4220-3493-495e-b83c-623876e49739",
   "metadata": {},
   "outputs": [],
   "source": [
    "# 预测成功次数和总次数的初始化\n",
    "success_counts = {1: 0, 2: 0, 3: 0, 4: 0}\n",
    "total_counts = {1: 0, 2: 0, 3: 0, 4: 0}\n",
    "\n",
    "# 假设目标文件夹路径为 'data/to_predict'\n",
    "target_folder_path = '1data/111/chence'\n",
    "# target_folder_path = '1data/111/wusiyuan'\n",
    "# target_folder_path = '1data/111/xuzhaoqi'\n",
    "\n",
    "# 读取目标文件夹中所有WAV音频文件的路径\n",
    "target_audio_files = [os.path.join(target_folder_path, file) for file in os.listdir(target_folder_path) if file.endswith('.wav')]\n",
    "\n",
    "# 根据文件名首字母确定正确的标签\n",
    "def get_correct_label(filename):\n",
    "    if filename.startswith('c'):\n",
    "        return 1\n",
    "    elif filename.startswith('l'):\n",
    "        return 2\n",
    "    elif filename.startswith('w'):\n",
    "        return 3\n",
    "    elif filename.startswith('x'):\n",
    "        return 4\n",
    "    else:\n",
    "        return None  # 如果不符合任何条件，返回None\n",
    "\n",
    "# 遍历每个文件，进行预测并更新成功次数和总次数\n",
    "for file in target_audio_files:\n",
    "    correct_label = get_correct_label(os.path.basename(file))\n",
    "    if correct_label is None:  # 如果无法确定正确的标签，跳过此次循环\n",
    "        continue\n",
    "\n",
    "    # 提取特征并进行预测（保持之前的代码不变）\n",
    "    extracted_features = extract_features(file).reshape(1, -1)\n",
    "    extracted_features = scaler.transform(extracted_features)\n",
    "    prediction = model.predict(extracted_features)[0]\n",
    "\n",
    "    # 更新总次数\n",
    "    total_counts[correct_label] += 1\n",
    "\n",
    "    # 如果预测正确，更新成功次数\n",
    "    if prediction == correct_label:\n",
    "        success_counts[correct_label] += 1\n",
    "\n",
    "# 计算并打印每个分类的预测成功率及平均成功率\n",
    "success_rates = []\n",
    "for label in range(1, 5):\n",
    "    if total_counts[label] > 0:\n",
    "        success_rate = success_counts[label] / total_counts[label] * 100\n",
    "        success_rates.append(success_rate)\n",
    "        print(f\"Label {label} Prediction Success Rate: {success_rate:.2f}%\")\n",
    "    else:\n",
    "        print(f\"Label {label}: No files to predict.\")\n",
    "\n",
    "# 计算四个类别的平均成功率\n",
    "if success_rates:\n",
    "    average_success_rate = sum(success_rates) / len(success_rates)\n",
    "    print(f\"\\nAverage Success Rate across all classes: {average_success_rate:.2f}%\")\n",
    "else:\n",
    "    print(\"No predictions were made for any class.\")"
   ]
  },
  {
   "cell_type": "code",
   "execution_count": 77,
   "id": "21184a01-235b-421d-aada-ee48d6be3e47",
   "metadata": {},
   "outputs": [
    {
     "data": {
      "image/png": "[encoded data removed]",
      "text/plain": [
       "<Figure size 640x480 with 1 Axes>"
      ]
     },
     "metadata": {},
     "output_type": "display_data"
    }
   ],
   "source": [
    "import numpy as np\n",
    "import matplotlib.pyplot as plt\n",
    "from sklearn.model_selection import learning_curve\n",
    "\n",
    "# 定义绘制学习曲线的函数\n",
    "def plot_learning_curve(estimator, title, X, y, ylim=None, cv=None,\n",
    "                        n_jobs=None, train_sizes=np.linspace(.1, 1.0, 5)):\n",
    "    \"\"\"\n",
    "    生成一个简单的学习曲线图。\n",
    "    参数:\n",
    "    - estimator : 用于学习数据的对象，必须是拟合器。\n",
    "    - title : 图表的标题。\n",
    "    - X : array-like, shape (n_samples, n_features) 训练向量。\n",
    "    - y : array-like, shape (n_samples) or (n_samples, n_features) 目标相对于X进行分类或回归。\n",
    "    - ylim : tuple, shape (ymin, ymax), 可选 定义最小和最大y值。\n",
    "    - cv : int, cross-validation generator or an iterable, 可选 确定交叉验证的分割策略。\n",
    "    - n_jobs : int or None, 可选 并行作业的数量。\n",
    "    - train_sizes : array-like, shape (n_ticks,), 可选 训练样本的比例（相对数量）。\n",
    "    \"\"\"\n",
    "    plt.figure()\n",
    "    plt.title(title)\n",
    "    if ylim is not None:\n",
    "        plt.ylim(*ylim)\n",
    "    plt.xlabel(\"Training examples\")\n",
    "    plt.ylabel(\"Score\")\n",
    "    train_sizes, train_scores, test_scores = learning_curve(\n",
    "        estimator, X, y, cv=cv, n_jobs=n_jobs, train_sizes=train_sizes)\n",
    "    train_scores_mean = np.mean(train_scores, axis=1)\n",
    "    train_scores_std = np.std(train_scores, axis=1)\n",
    "    test_scores_mean = np.mean(test_scores, axis=1)\n",
    "    test_scores_std = np.std(test_scores, axis=1)\n",
    "    plt.grid()\n",
    "\n",
    "    plt.fill_between(train_sizes, train_scores_mean - train_scores_std,\n",
    "                     train_scores_mean + train_scores_std, alpha=0.1,\n",
    "                     color=\"r\")\n",
    "    plt.fill_between(train_sizes, test_scores_mean - test_scores_std,\n",
    "                     test_scores_mean + test_scores_std, alpha=0.1, color=\"g\")\n",
    "    plt.plot(train_sizes, train_scores_mean, 'o-', color=\"r\",\n",
    "             label=\"Training score\")\n",
    "    plt.plot(train_sizes, test_scores_mean, 'o-', color=\"g\",\n",
    "             label=\"Cross-validation score\")\n",
    "\n",
    "    plt.legend(loc=\"best\")\n",
    "    return plt\n",
    "\n",
    "# 绘制学习曲线\n",
    "title = \"Learning Curves (SVM, Linear kernel, C=0.1)\"\n",
    "cv = None # 这里可以使用交叉验证策略，例如KFold\n",
    "plot_learning_curve(SVC(kernel='linear'), title, X, y, ylim=(0.5, 1.01), cv=cv, n_jobs=4)\n",
    "\n",
    "plt.show()"
   ]
  },
  {
   "cell_type": "code",
   "execution_count": 35,
   "id": "c9b91c87-0766-40b1-b3ad-7a4576a57910",
   "metadata": {},
   "outputs": [
    {
     "name": "stdout",
     "output_type": "stream",
     "text": [
      "模型已保存到文件：svm_onlypower.pkl\n"
     ]
    }
   ],
   "source": [
    "import joblib\n",
    "# 保存模型到文件\n",
    "model_filename = 'svm_onlypower.pkl'\n",
    "joblib.dump(model, model_filename)\n",
    "# 保存特征向量化器，如果有的话\n",
    "# scaler_filename = 'lgb_scaler.pkl'\n",
    "# joblib.dump(scaler, scaler_filename)\n",
    "\n",
    "print(f\"模型已保存到文件：{model_filename}\")\n",
    "# print(f\"向量化器已保存到文件：{scaler_filename}\")"
   ]
  },
  {
   "cell_type": "markdown",
   "id": "357810e0-85c9-4b5d-8672-2ee99443bd02",
   "metadata": {},
   "source": [
    "### 贝叶斯"
   ]
  },
  {
   "cell_type": "code",
   "execution_count": 16,
   "id": "cba3dcd8-3451-466f-acc5-6d4c5aef8195",
   "metadata": {},
   "outputs": [
    {
     "name": "stdout",
     "output_type": "stream",
     "text": [
      "精确度: 0.45\n",
      "召回率: 0.40\n",
      "F1 分数: 0.28\n"
     ]
    },
    {
     "name": "stderr",
     "output_type": "stream",
     "text": [
      "C:\\ANACONDA\\envs\\py38\\lib\\site-packages\\sklearn\\metrics\\_classification.py:1469: UndefinedMetricWarning: Precision is ill-defined and being set to 0.0 in labels with no predicted samples. Use `zero_division` parameter to control this behavior.\n",
      "  _warn_prf(average, modifier, msg_start, len(result))\n"
     ]
    }
   ],
   "source": [
    "import pandas as pd\n",
    "from sklearn.model_selection import train_test_split\n",
    "from sklearn.svm import SVC\n",
    "from sklearn.metrics import precision_score, recall_score, f1_score\n",
    "from sklearn.naive_bayes import GaussianNB\n",
    "from sklearn.naive_bayes import MultinomialNB\n",
    "\n",
    "# 从feature_vectors.csv中导入数据\n",
    "# data = pd.read_csv('features/feature_NB.csv')\n",
    "data = pd.read_csv('p4_test_vectors.csv')\n",
    "\n",
    "# 划分训练集和测试集\n",
    "X = data.drop(columns=['label'])  # 特征向量\n",
    "y = data['label']  # 标签\n",
    "X_train, X_test, y_train, y_test = train_test_split(X, y, test_size=0.33, random_state=42)\n",
    "\n",
    "model = GaussianNB()\n",
    "# model = MultinomialNB()\n",
    "\n",
    "# 训练模型\n",
    "model.fit(X_train, y_train)\n",
    "\n",
    "# 在测试集上评估模型性能\n",
    "y_pred = model.predict(X_test)\n",
    "precision = precision_score(y_test, y_pred, average='weighted')  # 使用加权平均\n",
    "recall = recall_score(y_test, y_pred, average='weighted')\n",
    "f1 = f1_score(y_test, y_pred, average='weighted')\n",
    "\n",
    "print(f\"精确度: {precision:.2f}\")\n",
    "print(f\"召回率: {recall:.2f}\")\n",
    "print(f\"F1 分数: {f1:.2f}\")"
   ]
  },
  {
   "cell_type": "markdown",
   "id": "3c1586c2-d87a-40e7-90b5-ef376b1f574b",
   "metadata": {},
   "source": [
    "### 决策树"
   ]
  },
  {
   "cell_type": "code",
   "execution_count": 17,
   "id": "d6cc5bd0-ad7d-4b42-9336-9e79b494e46b",
   "metadata": {},
   "outputs": [
    {
     "name": "stdout",
     "output_type": "stream",
     "text": [
      "精确度: 0.56\n",
      "召回率: 0.53\n",
      "F1 分数: 0.53\n"
     ]
    }
   ],
   "source": [
    "import pandas as pd\n",
    "from sklearn.model_selection import train_test_split\n",
    "from sklearn.svm import SVC\n",
    "from sklearn.metrics import precision_score, recall_score, f1_score\n",
    "from sklearn.tree import DecisionTreeClassifier\n",
    "\n",
    "# 从feature_vectors.csv中导入数据\n",
    "# data = pd.read_csv('features/feature.csv')\n",
    "data = pd.read_csv('p4_test_vectors.csv')\n",
    "\n",
    "# 划分训练集和测试集\n",
    "X = data.drop(columns=['label'])  # 特征向量\n",
    "y = data['label']  # 标签\n",
    "X_train, X_test, y_train, y_test = train_test_split(X, y, test_size=0.33, random_state=42)\n",
    "\n",
    "model = DecisionTreeClassifier()\n",
    "\n",
    "# 训练模型\n",
    "model.fit(X_train, y_train)\n",
    "\n",
    "# 在测试集上评估模型性能\n",
    "y_pred = model.predict(X_test)\n",
    "precision = precision_score(y_test, y_pred, average='weighted')  # 使用加权平均\n",
    "recall = recall_score(y_test, y_pred, average='weighted')\n",
    "f1 = f1_score(y_test, y_pred, average='weighted')\n",
    "\n",
    "print(f\"精确度: {precision:.2f}\")\n",
    "print(f\"召回率: {recall:.2f}\")\n",
    "print(f\"F1 分数: {f1:.2f}\")"
   ]
  },
  {
   "cell_type": "markdown",
   "id": "17b5b9bd-5fbe-441b-80aa-6485bfbe39e0",
   "metadata": {},
   "source": [
    "### 随机森林"
   ]
  },
  {
   "cell_type": "code",
   "execution_count": 18,
   "id": "b4c912b6-f884-47dc-b59f-98fec45cfa30",
   "metadata": {},
   "outputs": [
    {
     "name": "stdout",
     "output_type": "stream",
     "text": [
      "精确度: 0.59\n",
      "召回率: 0.57\n",
      "F1 分数: 0.58\n"
     ]
    }
   ],
   "source": [
    "from sklearn.ensemble import RandomForestClassifier\n",
    "import pandas as pd\n",
    "from sklearn.model_selection import train_test_split\n",
    "from sklearn.svm import SVC\n",
    "from sklearn.metrics import precision_score, recall_score, f1_score\n",
    "\n",
    "# 从feature_vectors.csv中导入数据\n",
    "# data = pd.read_csv('features/feature_NB.csv')\n",
    "data = pd.read_csv('p4_test_vectors.csv')\n",
    "\n",
    "# 划分训练集和测试集\n",
    "X = data.drop(columns=['label'])  # 特征向量\n",
    "y = data['label']  # 标签\n",
    "X_train, X_test, y_train, y_test = train_test_split(X, y, test_size=0.33, random_state=42)\n",
    "\n",
    "# 建立随机森林模型\n",
    "rfc = RandomForestClassifier(n_estimators=100, random_state=42)  # 可根据需要调整参数\n",
    "# 训练模型\n",
    "rfc.fit(X_train, y_train)\n",
    "# 预测测试集标签\n",
    "y_pred = rfc.predict(X_test)\n",
    "\n",
    "# 计算精确度、召回率和 F1 分数\n",
    "precision = precision_score(y_test, y_pred, average='weighted')\n",
    "recall = recall_score(y_test, y_pred, average='weighted')\n",
    "f1 = f1_score(y_test, y_pred, average='weighted')\n",
    "\n",
    "print(f\"精确度: {precision:.2f}\")\n",
    "print(f\"召回率: {recall:.2f}\")\n",
    "print(f\"F1 分数: {f1:.2f}\")"
   ]
  },
  {
   "cell_type": "markdown",
   "id": "04784ce5-f3e5-4511-9c0e-9d38ebb59384",
   "metadata": {},
   "source": [
    "### 梯度提升分类器"
   ]
  },
  {
   "cell_type": "code",
   "execution_count": 19,
   "id": "b98481ae-8d86-4267-aa04-8ae51ef790e9",
   "metadata": {},
   "outputs": [
    {
     "name": "stdout",
     "output_type": "stream",
     "text": [
      "精确度: 0.61\n",
      "召回率: 0.60\n",
      "F1 分数: 0.60\n"
     ]
    }
   ],
   "source": [
    "import pandas as pd\n",
    "from sklearn.model_selection import train_test_split\n",
    "from sklearn.svm import SVC\n",
    "from sklearn.metrics import precision_score, recall_score, f1_score\n",
    "from sklearn.ensemble import GradientBoostingClassifier\n",
    "\n",
    "# 从feature_vectors.csv中导入数据\n",
    "# data = pd.read_csv('features/feature_NB.csv')\n",
    "data = pd.read_csv('p4_test_vectors.csv')\n",
    "# data = pd.read_csv('feature_vectors.csv')\n",
    "\n",
    "# 划分训练集和测试集\n",
    "X = data.drop(columns=['label'])  # 特征向量\n",
    "y = data['label']  # 标签\n",
    "X_train, X_test, y_train, y_test = train_test_split(X, y, test_size=0.33, random_state=42)\n",
    "\n",
    "# 创建梯度提升分类器\n",
    "gbc = GradientBoostingClassifier(n_estimators=100, learning_rate=0.1, max_depth=3)\n",
    "# 在训练集上拟合模型\n",
    "gbc.fit(X_train, y_train)\n",
    "# 预测测试集标签\n",
    "y_pred = gbc.predict(X_test)\n",
    "\n",
    "# 计算精确度、召回率和 F1 分数\n",
    "precision = precision_score(y_test, y_pred, average='weighted')\n",
    "recall = recall_score(y_test, y_pred, average='weighted')\n",
    "f1 = f1_score(y_test, y_pred, average='weighted')\n",
    "\n",
    "print(f\"精确度: {precision:.2f}\")\n",
    "print(f\"召回率: {recall:.2f}\")\n",
    "print(f\"F1 分数: {f1:.2f}\")"
   ]
  },
  {
   "cell_type": "markdown",
   "id": "97d88467-11c8-4e76-9d7d-5e54d003d156",
   "metadata": {},
   "source": [
    "### 梯度提升算法 适用于高维特征"
   ]
  },
  {
   "cell_type": "markdown",
   "id": "6119d8eb-d6a5-4f7f-8353-e0d509d93d11",
   "metadata": {},
   "source": [
    "#### XGBoost"
   ]
  },
  {
   "cell_type": "code",
   "execution_count": 20,
   "id": "347a33db-c6dd-4b38-9299-c5fc2d7b6d3a",
   "metadata": {},
   "outputs": [
    {
     "name": "stdout",
     "output_type": "stream",
     "text": [
      "精确度: 0.59\n",
      "召回率: 0.60\n",
      "F1 分数: 0.59\n"
     ]
    }
   ],
   "source": [
    "import pandas as pd\n",
    "from sklearn.model_selection import train_test_split\n",
    "from sklearn.metrics import precision_score, recall_score, f1_score\n",
    "import xgboost as xgb\n",
    "from sklearn.preprocessing import LabelEncoder\n",
    "\n",
    "# 从feature_vectors.csv中导入数据\n",
    "# data = pd.read_csv('features/feature.csv')\n",
    "data = pd.read_csv('p4_test_vectors.csv')\n",
    "# data = pd.read_csv('feature_vectors.csv')\n",
    "\n",
    "# 划分训练集和测试集\n",
    "X = data.drop(columns=['label'])  # 特征向量\n",
    "y = data['label']  # 标签\n",
    "X_train, X_test, y_train, y_test = train_test_split(X, y, test_size=0.33, random_state=42)\n",
    "\n",
    "# 创建 LabelEncoder 对象\n",
    "le = LabelEncoder()\n",
    "\n",
    "# 将字符串标签编码为整数\n",
    "y_train_encoded = le.fit_transform(y_train)\n",
    "y_test_encoded = le.transform(y_test)\n",
    "\n",
    "# 创建并训练 XGBoost 模型\n",
    "model = xgb.XGBClassifier()\n",
    "model.fit(X_train, y_train_encoded)\n",
    "\n",
    "# 预测测试集标签\n",
    "y_pred_encoded = model.predict(X_test)\n",
    "\n",
    "# 计算精确度、召回率和 F1 分数\n",
    "precision = precision_score(y_test_encoded, y_pred_encoded, average='weighted')\n",
    "recall = recall_score(y_test_encoded, y_pred_encoded, average='weighted')\n",
    "f1 = f1_score(y_test_encoded, y_pred_encoded, average='weighted')\n",
    "\n",
    "print(f\"精确度: {precision:.2f}\")\n",
    "print(f\"召回率: {recall:.2f}\")\n",
    "print(f\"F1 分数: {f1:.2f}\")"
   ]
  },
  {
   "cell_type": "markdown",
   "id": "d87939d7-76eb-448f-85fc-c1dc29683bf5",
   "metadata": {},
   "source": [
    "#### LightGBM"
   ]
  },
  {
   "cell_type": "markdown",
   "id": "1bd5d617-3a2b-4b29-8a6f-439a7b399dfa",
   "metadata": {},
   "source": [
    "- 直方图算法（Histogram-based Algorithm）：\n",
    "LightGBM 的直方图算法可以帮助减少候选分裂点的数量，从而提高计算效率。\n",
    "你可以考虑使用直方图算法来替代预排序算法，从而加速模型训练。\n",
    "- GOSS 算法（Gradient-based One-Side Sampling）：\n",
    "GOSS 是基于梯度的单边采样算法，可以在不改变数据分布的前提下减少样本数量，从而提高训练速度。\n",
    "你可以尝试使用 GOSS 算法来加速模型训练，特别是对于大规模数据集。\n",
    "- EFB 算法（Exclusive Feature Bundling）：\n",
    "EFB 是互斥特征绑定算法，用于减少特征的数量，从而进一步降低数据规模。\n",
    "如果你的特征维度很高，可以考虑使用 EFB 来合并互斥的特征，从而提高训练效率。"
   ]
  },
  {
   "cell_type": "code",
   "execution_count": 21,
   "id": "a9ffd935-6795-46d3-a0a4-1c012b88aa69",
   "metadata": {},
   "outputs": [
    {
     "name": "stdout",
     "output_type": "stream",
     "text": [
      "精确度: 0.54\n",
      "召回率: 0.55\n",
      "F1 分数: 0.54\n"
     ]
    }
   ],
   "source": [
    "import lightgbm as lgb\n",
    "from sklearn.model_selection import train_test_split\n",
    "import pandas as pd\n",
    "from sklearn.metrics import precision_score, recall_score, f1_score\n",
    "\n",
    "# data = pd.read_csv('features/feature.csv')\n",
    "data = pd.read_csv('p4_test_vectors.csv')\n",
    "\n",
    "# 划分训练集和测试集\n",
    "X = data.drop(columns=['label'])  # 特征向量\n",
    "y = data['label']  # 标签\n",
    "X_train, X_test, y_train, y_test = train_test_split(X, y, test_size=0.33, random_state=42)\n",
    "\n",
    "# 创建模型\n",
    "model = lgb.LGBMClassifier(verbose=-1)\n",
    "# 训练模型\n",
    "model.fit(X_train, y_train)\n",
    "\n",
    "# 预测\n",
    "y_pred = model.predict(X_test)\n",
    "\n",
    "# 计算准确率\n",
    "# accuracy = (y_pred == y_test).mean()\n",
    "# print(f\"Accuracy: {accuracy:.2f}\")\n",
    "precision = precision_score(y_test, y_pred, average='weighted')\n",
    "recall = recall_score(y_test, y_pred, average='weighted')\n",
    "f1 = f1_score(y_test, y_pred, average='weighted')\n",
    "\n",
    "print(f\"精确度: {precision:.2f}\")\n",
    "print(f\"召回率: {recall:.2f}\")\n",
    "print(f\"F1 分数: {f1:.2f}\")"
   ]
  },
  {
   "cell_type": "code",
   "execution_count": 12,
   "id": "3a09fbd0-3511-4034-8d47-ddc34d6b198a",
   "metadata": {},
   "outputs": [
    {
     "name": "stdout",
     "output_type": "stream",
     "text": [
      "模型已保存到文件：lgb_later_model.pkl\n"
     ]
    }
   ],
   "source": [
    "import joblib\n",
    "# 保存模型到文件\n",
    "model_filename = 'lgb_later_model.pkl'\n",
    "joblib.dump(model, model_filename)\n",
    "# 保存特征向量化器，如果有的话\n",
    "# scaler_filename = 'lgb_scaler.pkl'\n",
    "# joblib.dump(scaler, scaler_filename)\n",
    "\n",
    "print(f\"模型已保存到文件：{model_filename}\")\n",
    "# print(f\"向量化器已保存到文件：{scaler_filename}\")"
   ]
  },
  {
   "cell_type": "markdown",
   "id": "3dd7c6d7-5012-41bf-862b-2b257a98242f",
   "metadata": {},
   "source": [
    "### 逻辑回归 适合用于二分类"
   ]
  },
  {
   "cell_type": "code",
   "execution_count": 17,
   "id": "75db13ed-04bd-454f-8a31-470da0983435",
   "metadata": {},
   "outputs": [
    {
     "name": "stdout",
     "output_type": "stream",
     "text": [
      "精确度: 0.80\n",
      "召回率: 0.78\n",
      "F1 分数: 0.75\n"
     ]
    },
    {
     "name": "stderr",
     "output_type": "stream",
     "text": [
      "C:\\ANACONDA\\envs\\py38\\lib\\site-packages\\sklearn\\linear_model\\_logistic.py:460: ConvergenceWarning: lbfgs failed to converge (status=1):\n",
      "STOP: TOTAL NO. of ITERATIONS REACHED LIMIT.\n",
      "\n",
      "Increase the number of iterations (max_iter) or scale the data as shown in:\n",
      "    https://scikit-learn.org/stable/modules/preprocessing.html\n",
      "Please also refer to the documentation for alternative solver options:\n",
      "    https://scikit-learn.org/stable/modules/linear_model.html#logistic-regression\n",
      "  n_iter_i = _check_optimize_result(\n"
     ]
    }
   ],
   "source": [
    "import pandas as pd\n",
    "from sklearn.model_selection import train_test_split\n",
    "from sklearn.svm import SVC\n",
    "from sklearn.metrics import precision_score, recall_score, f1_score\n",
    "from sklearn.linear_model import LogisticRegression\n",
    "\n",
    "# 从feature_vectors.csv中导入数据\n",
    "data = pd.read_csv('features/feature.csv')\n",
    "\n",
    "# 划分训练集和测试集\n",
    "X = data.drop(columns=['label'])  # 特征向量\n",
    "y = data['label']  # 标签\n",
    "X_train, X_test, y_train, y_test = train_test_split(X, y, test_size=0.33, random_state=42)\n",
    "# 创建逻辑回归模型\n",
    "lr = LogisticRegression(penalty='l2', C=1.0, solver='lbfgs', max_iter=100)\n",
    "# 在训练集上拟合模型\n",
    "lr.fit(X_train, y_train)\n",
    "# 预测测试集标签\n",
    "y_pred = lr.predict(X_test)\n",
    "\n",
    "# 计算精确度、召回率和 F1 分数\n",
    "precision = precision_score(y_test, y_pred, average='weighted')\n",
    "recall = recall_score(y_test, y_pred, average='weighted')\n",
    "f1 = f1_score(y_test, y_pred, average='weighted')\n",
    "\n",
    "print(f\"精确度: {precision:.2f}\")\n",
    "print(f\"召回率: {recall:.2f}\")\n",
    "print(f\"F1 分数: {f1:.2f}\")"
   ]
  },
  {
   "cell_type": "markdown",
   "id": "d5fb04c8-ef1f-40ef-86f8-1252b1e0f80f",
   "metadata": {},
   "source": [
    "### 保存模型/向量化器"
   ]
  },
  {
   "cell_type": "code",
   "execution_count": 3,
   "id": "2d47e8d0-8147-4892-b55e-7132bb297205",
   "metadata": {},
   "outputs": [
    {
     "name": "stdout",
     "output_type": "stream",
     "text": [
      "模型已保存到文件：lgb_model.pkl\n"
     ]
    }
   ],
   "source": [
    "import joblib\n",
    "# 保存模型到文件\n",
    "model_filename = 'lgb_model.pkl'\n",
    "joblib.dump(model, model_filename)\n",
    "# 保存特征向量化器，如果有的话\n",
    "# scaler_filename = 'lgb_scaler.pkl'\n",
    "# joblib.dump(scaler, scaler_filename)\n",
    "\n",
    "print(f\"模型已保存到文件：{model_filename}\")\n",
    "# print(f\"向量化器已保存到文件：{scaler_filename}\")"
   ]
  },
  {
   "cell_type": "markdown",
   "id": "366e19a2-3eff-4747-952f-3d1f06a72078",
   "metadata": {},
   "source": [
    "### 加载模型/向量化器"
   ]
  },
  {
   "cell_type": "code",
   "execution_count": null,
   "id": "1e39d38e-571f-4bfa-a725-489c3052ce94",
   "metadata": {},
   "outputs": [],
   "source": [
    "import joblib\n",
    "# 加载模型/向量化器\n",
    "loaded_model = joblib.load('lgb_model.pkl')\n",
    "# scaler = joblib.load('nb_scaler.pkl')\n",
    "\n",
    "# 对模型进行操作..."
   ]
  }
 ],
 "metadata": {
  "kernelspec": {
   "display_name": "py38kernel",
   "language": "python",
   "name": "py38-kernel"
  },
  "language_info": {
   "codemirror_mode": {
    "name": "ipython",
    "version": 3
   },
   "file_extension": ".py",
   "mimetype": "text/x-python",
   "name": "python",
   "nbconvert_exporter": "python",
   "pygments_lexer": "ipython3",
   "version": "3.8.18"
  }
 },
 "nbformat": 4,
 "nbformat_minor": 5
}
