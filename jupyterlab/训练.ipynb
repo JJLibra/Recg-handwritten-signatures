{
 "cells": [
  {
   "cell_type": "markdown",
   "id": "acf14684-4616-4fff-b408-2515124f04c9",
   "metadata": {},
   "source": [
    "### 支持向量机"
   ]
  },
  {
   "cell_type": "code",
   "execution_count": 3,
   "id": "0d2ac42f-e83b-421b-81fa-47cd35e5ac5b",
   "metadata": {},
   "outputs": [
    {
     "name": "stdout",
     "output_type": "stream",
     "text": [
      "精确度: 0.89\n",
      "召回率: 0.88\n",
      "F1 分数: 0.87\n"
     ]
    }
   ],
   "source": [
    "import pandas as pd\n",
    "from sklearn.model_selection import train_test_split\n",
    "from sklearn.svm import SVC\n",
    "from sklearn.metrics import precision_score, recall_score, f1_score\n",
    "\n",
    "# 从feature_vectors.csv中导入数据\n",
    "data = pd.read_csv('features/feature.csv')\n",
    "# data = pd.read_csv('feature_vectors.csv')\n",
    "\n",
    "# 划分训练集和测试集\n",
    "X = data.drop(columns=['label'])  # 特征向量\n",
    "y = data['label']  # 标签\n",
    "X_train, X_test, y_train, y_test = train_test_split(X, y, test_size=0.33, random_state=42)\n",
    "\n",
    "# 使用支持向量机（SVM）模型\n",
    "model = SVC(kernel='linear')\n",
    "\n",
    "# 训练模型\n",
    "model.fit(X_train, y_train)\n",
    "\n",
    "# 在测试集上评估模型性能\n",
    "y_pred = model.predict(X_test)\n",
    "precision = precision_score(y_test, y_pred, average='weighted')  # 使用加权平均\n",
    "recall = recall_score(y_test, y_pred, average='weighted')\n",
    "f1 = f1_score(y_test, y_pred, average='weighted')\n",
    "\n",
    "print(f\"精确度: {precision:.2f}\")\n",
    "print(f\"召回率: {recall:.2f}\")\n",
    "print(f\"F1 分数: {f1:.2f}\")"
   ]
  },
  {
   "cell_type": "markdown",
   "id": "357810e0-85c9-4b5d-8672-2ee99443bd02",
   "metadata": {},
   "source": [
    "### 贝叶斯"
   ]
  },
  {
   "cell_type": "code",
   "execution_count": 10,
   "id": "cba3dcd8-3451-466f-acc5-6d4c5aef8195",
   "metadata": {},
   "outputs": [
    {
     "name": "stdout",
     "output_type": "stream",
     "text": [
      "精确度: 0.88\n",
      "召回率: 0.75\n",
      "F1 分数: 0.73\n"
     ]
    }
   ],
   "source": [
    "import pandas as pd\n",
    "from sklearn.model_selection import train_test_split\n",
    "from sklearn.svm import SVC\n",
    "from sklearn.metrics import precision_score, recall_score, f1_score\n",
    "from sklearn.naive_bayes import GaussianNB\n",
    "from sklearn.naive_bayes import MultinomialNB\n",
    "\n",
    "# 从feature_vectors.csv中导入数据\n",
    "data = pd.read_csv('features/feature_NB.csv')\n",
    "\n",
    "# 划分训练集和测试集\n",
    "X = data.drop(columns=['label'])  # 特征向量\n",
    "y = data['label']  # 标签\n",
    "X_train, X_test, y_train, y_test = train_test_split(X, y, test_size=0.33, random_state=42)\n",
    "\n",
    "model = GaussianNB()\n",
    "# model = MultinomialNB()\n",
    "\n",
    "# 训练模型\n",
    "model.fit(X_train, y_train)\n",
    "\n",
    "# 在测试集上评估模型性能\n",
    "y_pred = model.predict(X_test)\n",
    "precision = precision_score(y_test, y_pred, average='weighted')  # 使用加权平均\n",
    "recall = recall_score(y_test, y_pred, average='weighted')\n",
    "f1 = f1_score(y_test, y_pred, average='weighted')\n",
    "\n",
    "print(f\"精确度: {precision:.2f}\")\n",
    "print(f\"召回率: {recall:.2f}\")\n",
    "print(f\"F1 分数: {f1:.2f}\")"
   ]
  },
  {
   "cell_type": "markdown",
   "id": "3c1586c2-d87a-40e7-90b5-ef376b1f574b",
   "metadata": {},
   "source": [
    "### 决策树"
   ]
  },
  {
   "cell_type": "code",
   "execution_count": 8,
   "id": "d6cc5bd0-ad7d-4b42-9336-9e79b494e46b",
   "metadata": {},
   "outputs": [
    {
     "name": "stdout",
     "output_type": "stream",
     "text": [
      "精确度: 0.85\n",
      "召回率: 0.85\n",
      "F1 分数: 0.85\n"
     ]
    }
   ],
   "source": [
    "import pandas as pd\n",
    "from sklearn.model_selection import train_test_split\n",
    "from sklearn.svm import SVC\n",
    "from sklearn.metrics import precision_score, recall_score, f1_score\n",
    "from sklearn.tree import DecisionTreeClassifier\n",
    "\n",
    "# 从feature_vectors.csv中导入数据\n",
    "data = pd.read_csv('features/feature.csv')\n",
    "\n",
    "# 划分训练集和测试集\n",
    "X = data.drop(columns=['label'])  # 特征向量\n",
    "y = data['label']  # 标签\n",
    "X_train, X_test, y_train, y_test = train_test_split(X, y, test_size=0.33, random_state=42)\n",
    "\n",
    "model = DecisionTreeClassifier()\n",
    "\n",
    "# 训练模型\n",
    "model.fit(X_train, y_train)\n",
    "\n",
    "# 在测试集上评估模型性能\n",
    "y_pred = model.predict(X_test)\n",
    "precision = precision_score(y_test, y_pred, average='weighted')  # 使用加权平均\n",
    "recall = recall_score(y_test, y_pred, average='weighted')\n",
    "f1 = f1_score(y_test, y_pred, average='weighted')\n",
    "\n",
    "print(f\"精确度: {precision:.2f}\")\n",
    "print(f\"召回率: {recall:.2f}\")\n",
    "print(f\"F1 分数: {f1:.2f}\")"
   ]
  },
  {
   "cell_type": "markdown",
   "id": "17b5b9bd-5fbe-441b-80aa-6485bfbe39e0",
   "metadata": {},
   "source": [
    "### 随机森林"
   ]
  },
  {
   "cell_type": "code",
   "execution_count": 12,
   "id": "b4c912b6-f884-47dc-b59f-98fec45cfa30",
   "metadata": {},
   "outputs": [
    {
     "name": "stdout",
     "output_type": "stream",
     "text": [
      "精确度: 0.83\n",
      "召回率: 0.82\n",
      "F1 分数: 0.82\n"
     ]
    }
   ],
   "source": [
    "from sklearn.ensemble import RandomForestClassifier\n",
    "import pandas as pd\n",
    "from sklearn.model_selection import train_test_split\n",
    "from sklearn.svm import SVC\n",
    "from sklearn.metrics import precision_score, recall_score, f1_score\n",
    "\n",
    "# 从feature_vectors.csv中导入数据\n",
    "data = pd.read_csv('features/feature_NB.csv')\n",
    "\n",
    "# 划分训练集和测试集\n",
    "X = data.drop(columns=['label'])  # 特征向量\n",
    "y = data['label']  # 标签\n",
    "X_train, X_test, y_train, y_test = train_test_split(X, y, test_size=0.33, random_state=42)\n",
    "\n",
    "# 建立随机森林模型\n",
    "rfc = RandomForestClassifier(n_estimators=100, random_state=42)  # 可根据需要调整参数\n",
    "# 训练模型\n",
    "rfc.fit(X_train, y_train)\n",
    "# 预测测试集标签\n",
    "y_pred = rfc.predict(X_test)\n",
    "\n",
    "# 计算精确度、召回率和 F1 分数\n",
    "precision = precision_score(y_test, y_pred, average='weighted')\n",
    "recall = recall_score(y_test, y_pred, average='weighted')\n",
    "f1 = f1_score(y_test, y_pred, average='weighted')\n",
    "\n",
    "print(f\"精确度: {precision:.2f}\")\n",
    "print(f\"召回率: {recall:.2f}\")\n",
    "print(f\"F1 分数: {f1:.2f}\")"
   ]
  },
  {
   "cell_type": "markdown",
   "id": "04784ce5-f3e5-4511-9c0e-9d38ebb59384",
   "metadata": {},
   "source": [
    "### 梯度提升分类器"
   ]
  },
  {
   "cell_type": "code",
   "execution_count": 8,
   "id": "b98481ae-8d86-4267-aa04-8ae51ef790e9",
   "metadata": {},
   "outputs": [
    {
     "name": "stdout",
     "output_type": "stream",
     "text": [
      "精确度: 0.91\n",
      "召回率: 0.90\n",
      "F1 分数: 0.90\n"
     ]
    }
   ],
   "source": [
    "import pandas as pd\n",
    "from sklearn.model_selection import train_test_split\n",
    "from sklearn.svm import SVC\n",
    "from sklearn.metrics import precision_score, recall_score, f1_score\n",
    "from sklearn.ensemble import GradientBoostingClassifier\n",
    "\n",
    "# 从feature_vectors.csv中导入数据\n",
    "data = pd.read_csv('features/feature_NB.csv')\n",
    "# data = pd.read_csv('feature_vectors.csv')\n",
    "\n",
    "# 划分训练集和测试集\n",
    "X = data.drop(columns=['label'])  # 特征向量\n",
    "y = data['label']  # 标签\n",
    "X_train, X_test, y_train, y_test = train_test_split(X, y, test_size=0.33, random_state=42)\n",
    "\n",
    "# 创建梯度提升分类器\n",
    "gbc = GradientBoostingClassifier(n_estimators=100, learning_rate=0.1, max_depth=3)\n",
    "# 在训练集上拟合模型\n",
    "gbc.fit(X_train, y_train)\n",
    "# 预测测试集标签\n",
    "y_pred = gbc.predict(X_test)\n",
    "\n",
    "# 计算精确度、召回率和 F1 分数\n",
    "precision = precision_score(y_test, y_pred, average='weighted')\n",
    "recall = recall_score(y_test, y_pred, average='weighted')\n",
    "f1 = f1_score(y_test, y_pred, average='weighted')\n",
    "\n",
    "print(f\"精确度: {precision:.2f}\")\n",
    "print(f\"召回率: {recall:.2f}\")\n",
    "print(f\"F1 分数: {f1:.2f}\")"
   ]
  },
  {
   "cell_type": "markdown",
   "id": "97d88467-11c8-4e76-9d7d-5e54d003d156",
   "metadata": {},
   "source": [
    "### 梯度提升算法 适用于高维特征"
   ]
  },
  {
   "cell_type": "markdown",
   "id": "6119d8eb-d6a5-4f7f-8353-e0d509d93d11",
   "metadata": {},
   "source": [
    "#### XGBoost"
   ]
  },
  {
   "cell_type": "code",
   "execution_count": 13,
   "id": "347a33db-c6dd-4b38-9299-c5fc2d7b6d3a",
   "metadata": {},
   "outputs": [
    {
     "name": "stdout",
     "output_type": "stream",
     "text": [
      "精确度: 0.92\n",
      "召回率: 0.93\n",
      "F1 分数: 0.92\n"
     ]
    }
   ],
   "source": [
    "import pandas as pd\n",
    "from sklearn.model_selection import train_test_split\n",
    "from sklearn.metrics import precision_score, recall_score, f1_score\n",
    "import xgboost as xgb\n",
    "from sklearn.preprocessing import LabelEncoder\n",
    "\n",
    "# 从feature_vectors.csv中导入数据\n",
    "data = pd.read_csv('features/feature.csv')\n",
    "# data = pd.read_csv('feature_vectors.csv')\n",
    "\n",
    "# 划分训练集和测试集\n",
    "X = data.drop(columns=['label'])  # 特征向量\n",
    "y = data['label']  # 标签\n",
    "X_train, X_test, y_train, y_test = train_test_split(X, y, test_size=0.33, random_state=42)\n",
    "\n",
    "# 创建 LabelEncoder 对象\n",
    "le = LabelEncoder()\n",
    "\n",
    "# 将字符串标签编码为整数\n",
    "y_train_encoded = le.fit_transform(y_train)\n",
    "y_test_encoded = le.transform(y_test)\n",
    "\n",
    "# 创建并训练 XGBoost 模型\n",
    "model = xgb.XGBClassifier()\n",
    "model.fit(X_train, y_train_encoded)\n",
    "\n",
    "# 预测测试集标签\n",
    "y_pred_encoded = model.predict(X_test)\n",
    "\n",
    "# 计算精确度、召回率和 F1 分数\n",
    "precision = precision_score(y_test_encoded, y_pred_encoded, average='weighted')\n",
    "recall = recall_score(y_test_encoded, y_pred_encoded, average='weighted')\n",
    "f1 = f1_score(y_test_encoded, y_pred_encoded, average='weighted')\n",
    "\n",
    "print(f\"精确度: {precision:.2f}\")\n",
    "print(f\"召回率: {recall:.2f}\")\n",
    "print(f\"F1 分数: {f1:.2f}\")"
   ]
  },
  {
   "cell_type": "markdown",
   "id": "d87939d7-76eb-448f-85fc-c1dc29683bf5",
   "metadata": {},
   "source": [
    "#### LightGBM"
   ]
  },
  {
   "cell_type": "markdown",
   "id": "1bd5d617-3a2b-4b29-8a6f-439a7b399dfa",
   "metadata": {},
   "source": [
    "- 直方图算法（Histogram-based Algorithm）：\n",
    "LightGBM 的直方图算法可以帮助减少候选分裂点的数量，从而提高计算效率。\n",
    "你可以考虑使用直方图算法来替代预排序算法，从而加速模型训练。\n",
    "- GOSS 算法（Gradient-based One-Side Sampling）：\n",
    "GOSS 是基于梯度的单边采样算法，可以在不改变数据分布的前提下减少样本数量，从而提高训练速度。\n",
    "你可以尝试使用 GOSS 算法来加速模型训练，特别是对于大规模数据集。\n",
    "- EFB 算法（Exclusive Feature Bundling）：\n",
    "EFB 是互斥特征绑定算法，用于减少特征的数量，从而进一步降低数据规模。\n",
    "如果你的特征维度很高，可以考虑使用 EFB 来合并互斥的特征，从而提高训练效率。"
   ]
  },
  {
   "cell_type": "code",
   "execution_count": 2,
   "id": "a9ffd935-6795-46d3-a0a4-1c012b88aa69",
   "metadata": {},
   "outputs": [
    {
     "name": "stdout",
     "output_type": "stream",
     "text": [
      "精确度: 0.93\n",
      "召回率: 0.93\n",
      "F1 分数: 0.93\n"
     ]
    }
   ],
   "source": [
    "import lightgbm as lgb\n",
    "from sklearn.model_selection import train_test_split\n",
    "import pandas as pd\n",
    "from sklearn.metrics import precision_score, recall_score, f1_score\n",
    "\n",
    "data = pd.read_csv('features/feature.csv')\n",
    "\n",
    "# 划分训练集和测试集\n",
    "X = data.drop(columns=['label'])  # 特征向量\n",
    "y = data['label']  # 标签\n",
    "X_train, X_test, y_train, y_test = train_test_split(X, y, test_size=0.33, random_state=42)\n",
    "\n",
    "# 创建模型\n",
    "model = lgb.LGBMClassifier(verbose=-1)\n",
    "# 训练模型\n",
    "model.fit(X_train, y_train)\n",
    "\n",
    "# 预测\n",
    "y_pred = model.predict(X_test)\n",
    "\n",
    "# 计算准确率\n",
    "# accuracy = (y_pred == y_test).mean()\n",
    "# print(f\"Accuracy: {accuracy:.2f}\")\n",
    "precision = precision_score(y_test, y_pred, average='weighted')\n",
    "recall = recall_score(y_test, y_pred, average='weighted')\n",
    "f1 = f1_score(y_test, y_pred, average='weighted')\n",
    "\n",
    "print(f\"精确度: {precision:.2f}\")\n",
    "print(f\"召回率: {recall:.2f}\")\n",
    "print(f\"F1 分数: {f1:.2f}\")"
   ]
  },
  {
   "cell_type": "markdown",
   "id": "3dd7c6d7-5012-41bf-862b-2b257a98242f",
   "metadata": {},
   "source": [
    "### 逻辑回归 适合用于二分类"
   ]
  },
  {
   "cell_type": "code",
   "execution_count": 17,
   "id": "75db13ed-04bd-454f-8a31-470da0983435",
   "metadata": {},
   "outputs": [
    {
     "name": "stdout",
     "output_type": "stream",
     "text": [
      "精确度: 0.80\n",
      "召回率: 0.78\n",
      "F1 分数: 0.75\n"
     ]
    },
    {
     "name": "stderr",
     "output_type": "stream",
     "text": [
      "C:\\ANACONDA\\envs\\py38\\lib\\site-packages\\sklearn\\linear_model\\_logistic.py:460: ConvergenceWarning: lbfgs failed to converge (status=1):\n",
      "STOP: TOTAL NO. of ITERATIONS REACHED LIMIT.\n",
      "\n",
      "Increase the number of iterations (max_iter) or scale the data as shown in:\n",
      "    https://scikit-learn.org/stable/modules/preprocessing.html\n",
      "Please also refer to the documentation for alternative solver options:\n",
      "    https://scikit-learn.org/stable/modules/linear_model.html#logistic-regression\n",
      "  n_iter_i = _check_optimize_result(\n"
     ]
    }
   ],
   "source": [
    "import pandas as pd\n",
    "from sklearn.model_selection import train_test_split\n",
    "from sklearn.svm import SVC\n",
    "from sklearn.metrics import precision_score, recall_score, f1_score\n",
    "from sklearn.linear_model import LogisticRegression\n",
    "\n",
    "# 从feature_vectors.csv中导入数据\n",
    "data = pd.read_csv('features/feature.csv')\n",
    "\n",
    "# 划分训练集和测试集\n",
    "X = data.drop(columns=['label'])  # 特征向量\n",
    "y = data['label']  # 标签\n",
    "X_train, X_test, y_train, y_test = train_test_split(X, y, test_size=0.33, random_state=42)\n",
    "# 创建逻辑回归模型\n",
    "lr = LogisticRegression(penalty='l2', C=1.0, solver='lbfgs', max_iter=100)\n",
    "# 在训练集上拟合模型\n",
    "lr.fit(X_train, y_train)\n",
    "# 预测测试集标签\n",
    "y_pred = lr.predict(X_test)\n",
    "\n",
    "# 计算精确度、召回率和 F1 分数\n",
    "precision = precision_score(y_test, y_pred, average='weighted')\n",
    "recall = recall_score(y_test, y_pred, average='weighted')\n",
    "f1 = f1_score(y_test, y_pred, average='weighted')\n",
    "\n",
    "print(f\"精确度: {precision:.2f}\")\n",
    "print(f\"召回率: {recall:.2f}\")\n",
    "print(f\"F1 分数: {f1:.2f}\")"
   ]
  },
  {
   "cell_type": "markdown",
   "id": "d5fb04c8-ef1f-40ef-86f8-1252b1e0f80f",
   "metadata": {},
   "source": [
    "### 保存模型/向量化器"
   ]
  },
  {
   "cell_type": "code",
   "execution_count": 3,
   "id": "2d47e8d0-8147-4892-b55e-7132bb297205",
   "metadata": {},
   "outputs": [
    {
     "name": "stdout",
     "output_type": "stream",
     "text": [
      "模型已保存到文件：lgb_model.pkl\n"
     ]
    }
   ],
   "source": [
    "import joblib\n",
    "# 保存模型到文件\n",
    "model_filename = 'lgb_model.pkl'\n",
    "joblib.dump(model, model_filename)\n",
    "# 保存特征向量化器，如果有的话\n",
    "# scaler_filename = 'lgb_scaler.pkl'\n",
    "# joblib.dump(scaler, scaler_filename)\n",
    "\n",
    "print(f\"模型已保存到文件：{model_filename}\")\n",
    "# print(f\"向量化器已保存到文件：{scaler_filename}\")"
   ]
  },
  {
   "cell_type": "markdown",
   "id": "366e19a2-3eff-4747-952f-3d1f06a72078",
   "metadata": {},
   "source": [
    "### 加载模型/向量化器"
   ]
  },
  {
   "cell_type": "code",
   "execution_count": null,
   "id": "1e39d38e-571f-4bfa-a725-489c3052ce94",
   "metadata": {},
   "outputs": [],
   "source": [
    "import joblib\n",
    "# 加载模型/向量化器\n",
    "loaded_model = joblib.load('lgb_model.pkl')\n",
    "# scaler = joblib.load('nb_scaler.pkl')\n",
    "\n",
    "# 对模型进行操作..."
   ]
  }
 ],
 "metadata": {
  "kernelspec": {
   "display_name": "py38kernel",
   "language": "python",
   "name": "py38-kernel"
  },
  "language_info": {
   "codemirror_mode": {
    "name": "ipython",
    "version": 3
   },
   "file_extension": ".py",
   "mimetype": "text/x-python",
   "name": "python",
   "nbconvert_exporter": "python",
   "pygments_lexer": "ipython3",
   "version": "3.8.18"
  }
 },
 "nbformat": 4,
 "nbformat_minor": 5
}
