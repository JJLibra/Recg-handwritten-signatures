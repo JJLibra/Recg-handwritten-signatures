{
 "cells": [
  {
   "cell_type": "code",
   "execution_count": null,
   "id": "81893f4e-7f76-4555-b447-996da16bcdc1",
   "metadata": {},
   "outputs": [],
   "source": [
    "import os\n",
    "import csv\n",
    "import librosa\n",
    "import pandas as pd\n",
    "\n",
    "from sklearn.model_selection import train_test_split\n",
    "from sklearn.naive_bayes import GaussianNB\n",
    "from sklearn.metrics import accuracy_score"
   ]
  },
  {
   "cell_type": "code",
   "execution_count": null,
   "id": "445031d1-f5ad-4ebb-8240-c4615e81ebc8",
   "metadata": {},
   "outputs": [],
   "source": [
    "# 标记音频文件并将路径和标签存储在CSV文件中\n",
    "folders = ['cc', 'lijunjie', 'wusiyuan', 'xuzhaoqi']  # 文件夹名称，按首字母排的\n",
    "labels = [1, 2, 3, 4]  # 对应的标签"
   ]
  },
  {
   "cell_type": "code",
   "execution_count": null,
   "id": "a29ace9f-bf89-4826-bfd4-99407d8478c2",
   "metadata": {},
   "outputs": [],
   "source": [
    "# 创建CSV文件以存储音频文件路径和标签\n",
    "with open('dataset.csv', 'w', newline='') as csvfile:\n",
    "    writer = csv.writer(csvfile)\n",
    "    writer.writerow(['audio_path', 'label'])\n",
    "    \n",
    "    # 遍历每个文件夹并标记音频文件\n",
    "    for folder, label in zip(folders, labels):\n",
    "        for filename in os.listdir(folder):\n",
    "            if filename.endswith('.wav'):\n",
    "                audio_path = os.path.join(folder, filename)\n",
    "                writer.writerow([audio_path, label])"
   ]
  },
  {
   "cell_type": "code",
   "execution_count": null,
   "id": "b2959027-33d9-4527-a5e5-e87956e3ce7f",
   "metadata": {},
   "outputs": [],
   "source": [
    "# 从音频文件中提取MFCC特征\n",
    "def extract_features(audio_path):\n",
    "    y, sr = librosa.load(audio_path)\n",
    "    mfccs = librosa.feature.mfcc(y=y, sr=sr)\n",
    "    return mfccs.flatten()  # 将MFCC特征展平"
   ]
  },
  {
   "cell_type": "code",
   "execution_count": null,
   "id": "ae6bfb1c-d7e1-445d-8836-27647cafb951",
   "metadata": {},
   "outputs": [],
   "source": [
    "# 读取数据集CSV\n",
    "df = pd.read_csv('dataset.csv')\n",
    "df['mfcc'] = df['audio_path'].apply(extract_features)  # 应用特征提取\n",
    "\n",
    "# 准备分类器的数据\n",
    "# 创建一个新的DataFrame，包含展平的特征\n",
    "features_df = pd.DataFrame(df['mfcc'].tolist())\n",
    "features_df['label'] = df['label']"
   ]
  },
  {
   "cell_type": "code",
   "execution_count": null,
   "id": "e3f25a2a-0ebe-4920-a152-11e7b2dea3eb",
   "metadata": {},
   "outputs": [],
   "source": [
    "# 分割数据集为训练集和测试集\n",
    "X_train, X_test, y_train, y_test = train_test_split(features_df.drop('label', axis=1), features_df['label'], test_size=0.2, random_state=42)"
   ]
  },
  {
   "cell_type": "code",
   "execution_count": null,
   "id": "ca82dcf4-4e21-4441-bc10-98e9702d317b",
   "metadata": {},
   "outputs": [],
   "source": [
    "# 初始化朴素贝叶斯分类器\n",
    "gnb = GaussianNB()\n",
    "# 训练模型\n",
    "gnb.fit(X_train, y_train)"
   ]
  },
  {
   "cell_type": "code",
   "execution_count": null,
   "id": "ab794679-ba56-4a76-b3d1-3bedb36850e9",
   "metadata": {},
   "outputs": [],
   "source": [
    "# 进行预测\n",
    "y_pred = gnb.predict(X_test)\n",
    "# 计算准确率\n",
    "accuracy = accuracy_score(y_test, y_pred)\n",
    "# 打印准确率\n",
    "print(f\"朴素贝叶斯分类器的准确率为: {accuracy}\")"
   ]
  }
 ],
 "metadata": {
  "kernelspec": {
   "display_name": "py38kernel",
   "language": "python",
   "name": "py38-kernel"
  },
  "language_info": {
   "codemirror_mode": {
    "name": "ipython",
    "version": 3
   },
   "file_extension": ".py",
   "mimetype": "text/x-python",
   "name": "python",
   "nbconvert_exporter": "python",
   "pygments_lexer": "ipython3",
   "version": "3.8.18"
  }
 },
 "nbformat": 4,
 "nbformat_minor": 5
}
