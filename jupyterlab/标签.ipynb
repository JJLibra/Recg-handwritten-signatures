{
 "cells": [
  {
   "cell_type": "code",
   "execution_count": 1,
   "id": "e8f53027-4e07-438c-90e3-515d84eefe57",
   "metadata": {},
   "outputs": [
    {
     "name": "stdout",
     "output_type": "stream",
     "text": [
      "标签文件已生成，保存在 labels.csv 中。\n"
     ]
    }
   ],
   "source": [
    "import os\n",
    "\n",
    "# 文件夹路径\n",
    "data_folder = 'data'\n",
    "\n",
    "# 两个人的文件夹名\n",
    "person_folders = ['lijunjie', 'xuzhaoqi']\n",
    "\n",
    "# 创建一个空列表来存储标签和文件路径\n",
    "label_file_paths = []\n",
    "\n",
    "# 遍历每个人的文件夹\n",
    "for person in person_folders:\n",
    "    person_path = os.path.join(data_folder, person)\n",
    "    for i in range(1, 31):  # 假设每人有30个WAV文件\n",
    "        wav_filename = f'{i}.wav'\n",
    "        wav_filepath = os.path.join(person_path, wav_filename)\n",
    "        label_file_paths.append(f'{person} {wav_filepath}')\n",
    "\n",
    "# 将标签和文件路径写入CSV文件\n",
    "output_csv = 'labels.csv'\n",
    "with open(output_csv, 'w') as f:\n",
    "    for line in label_file_paths:\n",
    "        f.write(line + '\\n')\n",
    "\n",
    "print(f\"标签文件已生成，保存在 {output_csv} 中。\")"
   ]
  }
 ],
 "metadata": {
  "kernelspec": {
   "display_name": "py38kernel",
   "language": "python",
   "name": "py38-kernel"
  },
  "language_info": {
   "codemirror_mode": {
    "name": "ipython",
    "version": 3
   },
   "file_extension": ".py",
   "mimetype": "text/x-python",
   "name": "python",
   "nbconvert_exporter": "python",
   "pygments_lexer": "ipython3",
   "version": "3.8.18"
  }
 },
 "nbformat": 4,
 "nbformat_minor": 5
}
