{
 "cells": [
  {
   "cell_type": "markdown",
   "id": "0dec520d-a7c8-4b4d-9162-e60b8d4ae898",
   "metadata": {},
   "source": [
    "## 生成标签文件"
   ]
  },
  {
   "cell_type": "markdown",
   "id": "6f5ef6c2-582c-4f17-82e5-437d0851130b",
   "metadata": {},
   "source": [
    "### CSV：标签+wav文件路径"
   ]
  },
  {
   "cell_type": "code",
   "execution_count": 7,
   "id": "e8f53027-4e07-438c-90e3-515d84eefe57",
   "metadata": {},
   "outputs": [
    {
     "name": "stdout",
     "output_type": "stream",
     "text": [
      "标签文件已生成，保存在 240402_xzq_p2.csv 中。\n"
     ]
    }
   ],
   "source": [
    "import os\n",
    "\n",
    "# 文件夹路径\n",
    "data_folder = 'data'\n",
    "\n",
    "# 两个人的文件夹名\n",
    "# person_folders = ['lijunjie', 'xuzhaoqi', 'chence', 'wusiyuan']\n",
    "person_folders = ['xuzhaoqi_p2']\n",
    "\n",
    "# 创建一个空列表来存储标签和文件路径\n",
    "label_file_paths = []\n",
    "\n",
    "# 遍历每个人的文件夹\n",
    "for person in person_folders:\n",
    "    person_path = os.path.join(data_folder, person)\n",
    "    for i in range(1, 31):  # 假设每人有30个WAV文件\n",
    "        wav_filename = f'{i}.wav'\n",
    "        wav_filepath = os.path.join(person_path, wav_filename)\n",
    "        label_file_paths.append(f'{person} {wav_filepath}')\n",
    "\n",
    "# 将标签和文件路径写入CSV文件\n",
    "output_csv = '240402_xzq_p2.csv'\n",
    "with open(output_csv, 'w') as f:\n",
    "    for line in label_file_paths:\n",
    "        f.write(line + '\\n')\n",
    "\n",
    "print(f\"标签文件已生成，保存在 {output_csv} 中。\")"
   ]
  },
  {
   "cell_type": "code",
   "execution_count": 3,
   "id": "3c414fc1-8ab7-4e57-8956-c515b22b3652",
   "metadata": {},
   "outputs": [
    {
     "name": "stdout",
     "output_type": "stream",
     "text": [
      "CSV file 'xuzhaoqi_labelpath.csv' has been created successfully.\n"
     ]
    }
   ],
   "source": [
    "import os\n",
    "import csv\n",
    "\n",
    "# 指定音频文件所在的目录\n",
    "directory = 'data/1/chence'\n",
    "\n",
    "# 指定输出CSV文件的名称和路径\n",
    "output_csv_file = 'chence_labelpath.csv'\n",
    "\n",
    "# 创建或打开CSV文件，并准备写入\n",
    "with open(output_csv_file, 'w', newline='') as file:\n",
    "    writer = csv.writer(file)\n",
    "    writer.writerow(['Label', 'File Path'])\n",
    "    \n",
    "    # 遍历指定目录下的所有文件\n",
    "    for filename in os.listdir(directory):\n",
    "        if filename.endswith('.wav'):  # 确保处理的是wav文件\n",
    "            # 从文件名解析出标签\n",
    "            label = filename.split('_')[0]\n",
    "            # 构建文件的完整路径\n",
    "            file_path = os.path.join(directory, filename)\n",
    "            # 写入当前文件的标签和路径到CSV文件\n",
    "            writer.writerow([label, file_path])\n",
    "\n",
    "print(f\"CSV file '{output_csv_file}' has been created successfully.\")"
   ]
  },
  {
   "cell_type": "markdown",
   "id": "2d16f9cd-e0dc-49de-9917-c2d5e16619bc",
   "metadata": {},
   "source": [
    "### CSV：[能量，均值，标准差]+标签"
   ]
  },
  {
   "cell_type": "code",
   "execution_count": 6,
   "id": "62d368e4-91f5-4140-b2fc-d4eaabbe2767",
   "metadata": {},
   "outputs": [
    {
     "name": "stdout",
     "output_type": "stream",
     "text": [
      "特征向量已写入lijunjie_xiaobo_vectors.csv文件。\n"
     ]
    }
   ],
   "source": [
    "import os\n",
    "import pandas as pd\n",
    "import numpy as np\n",
    "import pywt\n",
    "from scipy.io import wavfile\n",
    "\n",
    "# 读取audio_files.csv文件，确保分隔符与创建CSV时一致\n",
    "labels_df = pd.read_csv('lijunjie_labelpath.csv', delimiter=',', header=None, names=['label', 'path'])\n",
    "\n",
    "# 初始化特征向量列表\n",
    "feature_vectors = []\n",
    "\n",
    "# 遍历每个音频文件\n",
    "for index, row in labels_df.iterrows():\n",
    "    label = row['label']\n",
    "    audio_path = row['path']\n",
    "    \n",
    "    # 读取音频文件\n",
    "    rate, wavsignal = wavfile.read(audio_path)\n",
    "    \n",
    "    # 如果音频是立体声，取第一个通道\n",
    "    if wavsignal.ndim > 1:\n",
    "        wavsignal = wavsignal[:, 0]\n",
    "    \n",
    "    # 进行小波变换\n",
    "    wavelet_name = 'db4'\n",
    "    try:\n",
    "        coeffs = pywt.wavedec(wavsignal, wavelet_name, level=4)\n",
    "    except ValueError as e:\n",
    "        print(f\"Error processing file {audio_path}: {e}\")\n",
    "        continue\n",
    "    \n",
    "    # 获取高频部分的系数（假设这是第二个尺度的高频部分）\n",
    "    high_coeffs = coeffs[2]\n",
    "    \n",
    "    # 提取时频特征（例如能量、均值等）\n",
    "    feature_vector = [np.sum(np.square(high_coeffs)), np.mean(high_coeffs), np.std(high_coeffs)]\n",
    "    \n",
    "    # 添加标签\n",
    "    feature_vector.append(label)\n",
    "    \n",
    "    # 添加到特征向量列表\n",
    "    feature_vectors.append(feature_vector)\n",
    "\n",
    "# 创建DataFrame\n",
    "feature_df = pd.DataFrame(feature_vectors, columns=['energy', 'mean', 'std', 'label'])\n",
    "\n",
    "# 将特征向量写入CSV文件\n",
    "feature_df.to_csv('lijunjie_xiaobo_vectors.csv', index=False)\n",
    "print(\"特征向量已写入lijunjie_xiaobo_vectors.csv文件。\")\n"
   ]
  },
  {
   "cell_type": "markdown",
   "id": "196b409c-b99f-4635-aaab-966378b31649",
   "metadata": {},
   "source": [
    "### CSV：[能量，均值，标准差，功率谱]+标签"
   ]
  }
 ],
 "metadata": {
  "kernelspec": {
   "display_name": "py38kernel",
   "language": "python",
   "name": "py38-kernel"
  },
  "language_info": {
   "codemirror_mode": {
    "name": "ipython",
    "version": 3
   },
   "file_extension": ".py",
   "mimetype": "text/x-python",
   "name": "python",
   "nbconvert_exporter": "python",
   "pygments_lexer": "ipython3",
   "version": "3.8.18"
  }
 },
 "nbformat": 4,
 "nbformat_minor": 5
}
