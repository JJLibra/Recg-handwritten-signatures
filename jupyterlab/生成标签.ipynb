{
 "cells": [
  {
   "cell_type": "markdown",
   "id": "0dec520d-a7c8-4b4d-9162-e60b8d4ae898",
   "metadata": {},
   "source": [
    "## 生成标签文件"
   ]
  },
  {
   "cell_type": "markdown",
   "id": "6f5ef6c2-582c-4f17-82e5-437d0851130b",
   "metadata": {},
   "source": [
    "### CSV：标签+wav文件路径"
   ]
  },
  {
   "cell_type": "code",
   "execution_count": 1,
   "id": "e8f53027-4e07-438c-90e3-515d84eefe57",
   "metadata": {},
   "outputs": [
    {
     "name": "stdout",
     "output_type": "stream",
     "text": [
      "标签文件已生成，保存在 labels.csv 中。\n"
     ]
    }
   ],
   "source": [
    "import os\n",
    "\n",
    "# 文件夹路径\n",
    "data_folder = 'data'\n",
    "\n",
    "# 两个人的文件夹名\n",
    "person_folders = ['lijunjie', 'xuzhaoqi', 'chence', 'wusiyuan']\n",
    "\n",
    "# 创建一个空列表来存储标签和文件路径\n",
    "label_file_paths = []\n",
    "\n",
    "# 遍历每个人的文件夹\n",
    "for person in person_folders:\n",
    "    person_path = os.path.join(data_folder, person)\n",
    "    for i in range(1, 31):  # 假设每人有30个WAV文件\n",
    "        wav_filename = f'{i}.wav'\n",
    "        wav_filepath = os.path.join(person_path, wav_filename)\n",
    "        label_file_paths.append(f'{person} {wav_filepath}')\n",
    "\n",
    "# 将标签和文件路径写入CSV文件\n",
    "output_csv = 'labels.csv'\n",
    "with open(output_csv, 'w') as f:\n",
    "    for line in label_file_paths:\n",
    "        f.write(line + '\\n')\n",
    "\n",
    "print(f\"标签文件已生成，保存在 {output_csv} 中。\")"
   ]
  },
  {
   "cell_type": "markdown",
   "id": "2d16f9cd-e0dc-49de-9917-c2d5e16619bc",
   "metadata": {},
   "source": [
    "### CSV：[能量，均值，标准差]+标签"
   ]
  },
  {
   "cell_type": "code",
   "execution_count": 4,
   "id": "62d368e4-91f5-4140-b2fc-d4eaabbe2767",
   "metadata": {},
   "outputs": [
    {
     "name": "stdout",
     "output_type": "stream",
     "text": [
      "特征向量已写入feature_vectors.csv文件。\n"
     ]
    }
   ],
   "source": [
    "import os\n",
    "import pandas as pd\n",
    "import numpy as np\n",
    "import pywt\n",
    "from scipy.io import wavfile\n",
    "\n",
    "# 读取labels.csv文件\n",
    "labels_df = pd.read_csv('data/full/labels.csv', delimiter=' ', header=None, names=['label', 'path'])\n",
    "\n",
    "# 初始化特征向量列表\n",
    "feature_vectors = []\n",
    "\n",
    "# 遍历每个音频文件\n",
    "for index, row in labels_df.iterrows():\n",
    "    label = row['label']\n",
    "    audio_path = row['path']\n",
    "    \n",
    "    # 读取音频文件\n",
    "    rate, wavsignal = wavfile.read(audio_path)\n",
    "    \n",
    "    # 进行小波变换\n",
    "    wavelet_name = 'db4'\n",
    "    coeffs = pywt.wavedec(wavsignal, wavelet_name, level=4)\n",
    "    \n",
    "    # 获取高频部分的系数（假设这是第二个尺度的高频部分）\n",
    "    high_coeffs = coeffs[2]\n",
    "    \n",
    "    # 提取时频特征（例如能量、均值等）\n",
    "    feature_vector = [np.sum(np.square(high_coeffs)), np.mean(high_coeffs), np.std(high_coeffs)]\n",
    "    \n",
    "    # 添加标签\n",
    "    feature_vector.append(label)\n",
    "    \n",
    "    # 添加到特征向量列表\n",
    "    feature_vectors.append(feature_vector)\n",
    "\n",
    "# 创建DataFrame\n",
    "feature_df = pd.DataFrame(feature_vectors, columns=['energy', 'mean', 'std', 'label'])\n",
    "\n",
    "# 将特征向量写入CSV文件\n",
    "feature_df.to_csv('feature_vectors.csv', index=False)\n",
    "print(\"特征向量已写入feature_vectors.csv文件。\")"
   ]
  },
  {
   "cell_type": "markdown",
   "id": "196b409c-b99f-4635-aaab-966378b31649",
   "metadata": {},
   "source": [
    "### CSV：[能量，均值，标准差，功率谱]+标签"
   ]
  }
 ],
 "metadata": {
  "kernelspec": {
   "display_name": "py38kernel",
   "language": "python",
   "name": "py38-kernel"
  },
  "language_info": {
   "codemirror_mode": {
    "name": "ipython",
    "version": 3
   },
   "file_extension": ".py",
   "mimetype": "text/x-python",
   "name": "python",
   "nbconvert_exporter": "python",
   "pygments_lexer": "ipython3",
   "version": "3.8.18"
  }
 },
 "nbformat": 4,
 "nbformat_minor": 5
}
