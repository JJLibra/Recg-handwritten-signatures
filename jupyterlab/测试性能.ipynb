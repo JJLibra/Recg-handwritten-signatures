{
 "cells": [
  {
   "cell_type": "markdown",
   "id": "a57fcf30-9e63-4dd5-9921-b9a59b599444",
   "metadata": {},
   "source": [
    "## 模型性能测试"
   ]
  },
  {
   "cell_type": "markdown",
   "id": "e6706b26-aa99-4f66-b55c-9c0bc687153d",
   "metadata": {},
   "source": [
    "### LightGBM"
   ]
  },
  {
   "cell_type": "code",
   "execution_count": 7,
   "id": "fb5d0774-95cf-4392-ac2a-f91d7ff81317",
   "metadata": {},
   "outputs": [
    {
     "name": "stdout",
     "output_type": "stream",
     "text": [
      "精确度: 0.0703\n",
      "召回率: 0.2598\n",
      "F1 分数: 0.1106\n",
      "\n",
      "预测错误的实例:\n",
      "    True Label Predicted Label  Correct\n",
      "0     lijunjie        xuzhaoqi    False\n",
      "1     lijunjie        xuzhaoqi    False\n",
      "2     lijunjie          chence    False\n",
      "3     lijunjie          chence    False\n",
      "4     lijunjie          chence    False\n",
      "..         ...             ...      ...\n",
      "122     chence        xuzhaoqi    False\n",
      "123     chence        xuzhaoqi    False\n",
      "124     chence        xuzhaoqi    False\n",
      "125     chence        xuzhaoqi    False\n",
      "126     chence        xuzhaoqi    False\n",
      "\n",
      "[94 rows x 3 columns]\n"
     ]
    },
    {
     "name": "stderr",
     "output_type": "stream",
     "text": [
      "C:\\ANACONDA\\envs\\py38\\lib\\site-packages\\sklearn\\metrics\\_classification.py:1469: UndefinedMetricWarning: Precision is ill-defined and being set to 0.0 in labels with no predicted samples. Use `zero_division` parameter to control this behavior.\n",
      "  _warn_prf(average, modifier, msg_start, len(result))\n"
     ]
    }
   ],
   "source": [
    "import pandas as pd\n",
    "from joblib import load\n",
    "import numpy as np\n",
    "from sklearn.metrics import precision_score, recall_score, f1_score\n",
    "\n",
    "# 加载测试数据集\n",
    "# test_data = pd.read_csv('dif_distance_featrues/p4_vectors.csv')\n",
    "# test_data = pd.read_csv('p4_test_vectors.csv')\n",
    "test_data = pd.read_csv('wusiyuan_test_vectors.csv')\n",
    "\n",
    "X_test = test_data.iloc[:, :-1]  # 排除最后一列(label)\n",
    "\n",
    "# 使用joblib加载已训练的模型\n",
    "model = load('models/lgb_later_model.pkl')\n",
    "\n",
    "# 使用模型进行预测\n",
    "y_pred = model.predict(X_test)\n",
    "\n",
    "# 对y_true进行编码转换\n",
    "labels, uniques = pd.factorize(test_data['label'])\n",
    "y_true = labels\n",
    "\n",
    "# 假设这是factorize之后与原标签的对应关系\n",
    "labels_to_names = {0: 'lijunjie', 1: 'xuzhaoqi', 2: 'wusiyuan', 3: 'chence'}\n",
    "\n",
    "# 将y_true的整数标签转换为字符串标签\n",
    "y_true_named = np.vectorize(labels_to_names.get)(y_true)\n",
    "\n",
    "# 现在y_true_named和y_pred都是字符串形式的标签，可以计算性能指标\n",
    "precision = precision_score(y_true_named, y_pred, labels=list(labels_to_names.values()), average='weighted')\n",
    "recall = recall_score(y_true_named, y_pred, labels=list(labels_to_names.values()), average='weighted')\n",
    "f1 = f1_score(y_true_named, y_pred, labels=list(labels_to_names.values()), average='weighted')\n",
    "\n",
    "print(f\"精确度: {precision:.4f}\")\n",
    "print(f\"召回率: {recall:.4f}\")\n",
    "print(f\"F1 分数: {f1:.4f}\")\n",
    "\n",
    "# 输出预测错误的实例\n",
    "# 创建一个错误记录的DataFrame\n",
    "errors = pd.DataFrame({\n",
    "    'True Label': y_true_named,\n",
    "    'Predicted Label': y_pred,\n",
    "    'Correct': y_true_named == y_pred\n",
    "})\n",
    "\n",
    "# 筛选出预测错误的实例\n",
    "incorrect_predictions = errors[errors['Correct'] == False]\n",
    "\n",
    "# 打印错误的实例\n",
    "print(\"\\n预测错误的实例:\")\n",
    "print(incorrect_predictions)\n"
   ]
  },
  {
   "cell_type": "markdown",
   "id": "4e8e9414-a3e5-4ccf-b926-82324073878a",
   "metadata": {},
   "source": [
    "### SVC"
   ]
  },
  {
   "cell_type": "code",
   "execution_count": 8,
   "id": "b4e2ec57-17b9-437e-bcba-e9c3c36ee579",
   "metadata": {},
   "outputs": [
    {
     "name": "stdout",
     "output_type": "stream",
     "text": [
      "精确度: 0.0703\n",
      "召回率: 0.2598\n",
      "F1 分数: 0.1106\n",
      "\n",
      "预测错误的实例:\n",
      "    True Label Predicted Label  Correct\n",
      "0     lijunjie        xuzhaoqi    False\n",
      "1     lijunjie        xuzhaoqi    False\n",
      "2     lijunjie          chence    False\n",
      "3     lijunjie          chence    False\n",
      "4     lijunjie          chence    False\n",
      "..         ...             ...      ...\n",
      "122     chence        xuzhaoqi    False\n",
      "123     chence        xuzhaoqi    False\n",
      "124     chence        xuzhaoqi    False\n",
      "125     chence        xuzhaoqi    False\n",
      "126     chence        xuzhaoqi    False\n",
      "\n",
      "[94 rows x 3 columns]\n"
     ]
    },
    {
     "name": "stderr",
     "output_type": "stream",
     "text": [
      "C:\\ANACONDA\\envs\\py38\\lib\\site-packages\\sklearn\\metrics\\_classification.py:1469: UndefinedMetricWarning: Precision is ill-defined and being set to 0.0 in labels with no predicted samples. Use `zero_division` parameter to control this behavior.\n",
      "  _warn_prf(average, modifier, msg_start, len(result))\n"
     ]
    }
   ],
   "source": [
    "import pandas as pd\n",
    "from joblib import load\n",
    "import numpy as np\n",
    "from sklearn.metrics import precision_score, recall_score, f1_score\n",
    "\n",
    "# 加载测试数据集\n",
    "# test_data = pd.read_csv('dif_distance_featrues/p4_vectors.csv')\n",
    "# test_data = pd.read_csv('p4_test_vectors.csv')\n",
    "test_data = pd.read_csv('wusiyuan_test_vectors.csv')\n",
    "\n",
    "X_test = test_data.iloc[:, :-1]  # 排除最后一列(label)\n",
    "\n",
    "# 使用joblib加载已训练的模型\n",
    "model = load('models/svm_model.pkl')\n",
    "\n",
    "# 使用模型进行预测\n",
    "y_pred = model.predict(X_test)\n",
    "\n",
    "# 对y_true进行编码转换\n",
    "labels, uniques = pd.factorize(test_data['label'])\n",
    "y_true = labels\n",
    "\n",
    "# 假设这是factorize之后与原标签的对应关系\n",
    "labels_to_names = {0: 'lijunjie', 1: 'xuzhaoqi', 2: 'wusiyuan', 3: 'chence'}\n",
    "\n",
    "# 将y_true的整数标签转换为字符串标签\n",
    "y_true_named = np.vectorize(labels_to_names.get)(y_true)\n",
    "\n",
    "# 现在y_true_named和y_pred都是字符串形式的标签，可以计算性能指标\n",
    "precision = precision_score(y_true_named, y_pred, labels=list(labels_to_names.values()), average='weighted')\n",
    "recall = recall_score(y_true_named, y_pred, labels=list(labels_to_names.values()), average='weighted')\n",
    "f1 = f1_score(y_true_named, y_pred, labels=list(labels_to_names.values()), average='weighted')\n",
    "\n",
    "print(f\"精确度: {precision:.4f}\")\n",
    "print(f\"召回率: {recall:.4f}\")\n",
    "print(f\"F1 分数: {f1:.4f}\")\n",
    "\n",
    "# 输出预测错误的实例\n",
    "# 创建一个错误记录的DataFrame\n",
    "errors = pd.DataFrame({\n",
    "    'True Label': y_true_named,\n",
    "    'Predicted Label': y_pred,\n",
    "    'Correct': y_true_named == y_pred\n",
    "})\n",
    "\n",
    "# 筛选出预测错误的实例\n",
    "incorrect_predictions = errors[errors['Correct'] == False]\n",
    "\n",
    "# 打印错误的实例\n",
    "print(\"\\n预测错误的实例:\")\n",
    "print(incorrect_predictions)\n"
   ]
  },
  {
   "cell_type": "markdown",
   "id": "fdb5ccc9-1a28-4ff6-8882-696eb185fe32",
   "metadata": {},
   "source": [
    "### RandomizedSearchCV"
   ]
  },
  {
   "cell_type": "code",
   "execution_count": null,
   "id": "72d6282d-de45-4875-9fee-d77b25690576",
   "metadata": {},
   "outputs": [],
   "source": [
    "from sklearn.model_selection import RandomizedSearchCV\n",
    "from scipy.stats import expon, randint\n",
    "\n",
    "# 设置SVC模型\n",
    "model = make_pipeline(StandardScaler(), SVC())\n",
    "\n",
    "# 定义要搜索的参数分布\n",
    "param_distributions = {\n",
    "    'svc__C': expon(scale=10),  # 对于连续参数，可以使用分布\n",
    "    'svc__kernel': ['linear', 'rbf'],  # 对于分类参数，仍然是列表\n",
    "    'svc__gamma': expon(scale=.1)  # 使用分布来随机采样\n",
    "}\n",
    "\n",
    "# 创建RandomizedSearchCV对象\n",
    "random_search = RandomizedSearchCV(model, param_distributions, n_iter=100, cv=5, scoring='accuracy')\n",
    "\n",
    "# 进行搜索\n",
    "random_search.fit(X_train, y_train)\n",
    "\n",
    "# 打印最佳参数\n",
    "print(\"Best parameters:\", random_search.best_params_)\n",
    "print(\"Best cross-validation score:\", random_search.best_score_)"
   ]
  },
  {
   "cell_type": "markdown",
   "id": "57f43666-1dee-4054-b759-1a3d2cdfc87e",
   "metadata": {},
   "source": [
    "### GridSearchCV"
   ]
  },
  {
   "cell_type": "code",
   "execution_count": null,
   "id": "9e80bae5-1b90-4db3-b281-9ff4bec4a710",
   "metadata": {},
   "outputs": [],
   "source": [
    "from sklearn.model_selection import GridSearchCV\n",
    "from sklearn.pipeline import make_pipeline\n",
    "from sklearn.svm import SVC\n",
    "from sklearn.preprocessing import StandardScaler\n",
    "\n",
    "# 设置SVC模型和管道，其中包括数据标准化\n",
    "pipeline = make_pipeline(StandardScaler(), SVC())\n",
    "\n",
    "# 定义要搜索的参数网格\n",
    "# 注意，我们这里使用较少的参数值来节省时间，你可以根据需要增加更多的参数值\n",
    "param_grid = {\n",
    "    'svc__C': [0.1, 1, 10, 100],  # C参数\n",
    "    'svc__kernel': ['linear', 'rbf'],  # 核函数\n",
    "    'svc__gamma': [0.001, 0.01, 0.1, 1]  # gamma参数\n",
    "}\n",
    "\n",
    "# 创建GridSearchCV对象\n",
    "grid_search = GridSearchCV(pipeline, param_grid, cv=5, scoring='accuracy')\n",
    "\n",
    "# 进行搜索\n",
    "grid_search.fit(X_train, y_train)\n",
    "\n",
    "# 打印最佳参数和最佳交叉验证得分\n",
    "print(\"Best parameters:\", grid_search.best_params_)\n",
    "print(\"Best cross-validation score:\", grid_search.best_score_)"
   ]
  }
 ],
 "metadata": {
  "kernelspec": {
   "display_name": "py38kernel",
   "language": "python",
   "name": "py38-kernel"
  },
  "language_info": {
   "codemirror_mode": {
    "name": "ipython",
    "version": 3
   },
   "file_extension": ".py",
   "mimetype": "text/x-python",
   "name": "python",
   "nbconvert_exporter": "python",
   "pygments_lexer": "ipython3",
   "version": "3.8.18"
  }
 },
 "nbformat": 4,
 "nbformat_minor": 5
}
