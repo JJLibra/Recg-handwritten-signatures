{
 "cells": [
  {
   "cell_type": "markdown",
   "id": "a57fcf30-9e63-4dd5-9921-b9a59b599444",
   "metadata": {},
   "source": [
    "## 模型性能测试"
   ]
  },
  {
   "cell_type": "markdown",
   "id": "e6706b26-aa99-4f66-b55c-9c0bc687153d",
   "metadata": {},
   "source": [
    "### LightGBM"
   ]
  },
  {
   "cell_type": "code",
   "execution_count": 3,
   "id": "fb5d0774-95cf-4392-ac2a-f91d7ff81317",
   "metadata": {},
   "outputs": [
    {
     "name": "stdout",
     "output_type": "stream",
     "text": [
      "精确度: 1.0000\n",
      "召回率: 1.0000\n",
      "F1 分数: 1.0000\n"
     ]
    },
    {
     "name": "stderr",
     "output_type": "stream",
     "text": [
      "C:\\ANACONDA\\envs\\py38\\lib\\site-packages\\sklearn\\metrics\\_classification.py:1469: UndefinedMetricWarning: Precision is ill-defined and being set to 0.0 in labels with no predicted samples. Use `zero_division` parameter to control this behavior.\n",
      "  _warn_prf(average, modifier, msg_start, len(result))\n",
      "C:\\ANACONDA\\envs\\py38\\lib\\site-packages\\sklearn\\metrics\\_classification.py:1469: UndefinedMetricWarning: Recall is ill-defined and being set to 0.0 in labels with no true samples. Use `zero_division` parameter to control this behavior.\n",
      "  _warn_prf(average, modifier, msg_start, len(result))\n",
      "C:\\ANACONDA\\envs\\py38\\lib\\site-packages\\sklearn\\metrics\\_classification.py:1757: UndefinedMetricWarning: F-score is ill-defined and being set to 0.0 in labels with no true nor predicted samples. Use `zero_division` parameter to control this behavior.\n",
      "  _warn_prf(average, \"true nor predicted\", \"F-score is\", len(true_sum))\n"
     ]
    }
   ],
   "source": [
    "import pandas as pd\n",
    "from joblib import load\n",
    "from sklearn.metrics import precision_score, recall_score, f1_score\n",
    "import numpy as np\n",
    "\n",
    "# 加载测试数据集\n",
    "test_data = pd.read_csv('xzq_p2_vectors.csv')\n",
    "X_test = test_data.iloc[:, :-1]  # 排除最后一列(label)\n",
    "\n",
    "# 使用joblib加载已训练的模型\n",
    "model = load('models/lgb_model.pkl')\n",
    "\n",
    "# 使用模型进行预测\n",
    "y_pred = model.predict(X_test)\n",
    "\n",
    "# 对y_true进行编码转换\n",
    "labels, uniques = pd.factorize(test_data['label'])\n",
    "y_true = labels\n",
    "\n",
    "# 假设这是factorize之后与原标签的对应关系\n",
    "labels_to_names = {0: 'lijunjie', 1: 'xuzhaoqi', 2: 'wusiyuan', 3: 'chence'}\n",
    "\n",
    "# 将y_true的整数标签转换为字符串标签\n",
    "y_true_named = np.vectorize(labels_to_names.get)(y_true)\n",
    "\n",
    "# 现在y_true_named和y_pred都是字符串形式的标签，可以计算性能指标\n",
    "precision = precision_score(y_true_named, y_pred, labels=list(labels_to_names.values()), average='weighted')\n",
    "recall = recall_score(y_true_named, y_pred, labels=list(labels_to_names.values()), average='weighted')\n",
    "f1 = f1_score(y_true_named, y_pred, labels=list(labels_to_names.values()), average='weighted')\n",
    "\n",
    "print(f\"精确度: {precision:.4f}\")\n",
    "print(f\"召回率: {recall:.4f}\")\n",
    "print(f\"F1 分数: {f1:.4f}\")"
   ]
  },
  {
   "cell_type": "code",
   "execution_count": null,
   "id": "d3c70f37-29cb-4db1-a772-284ac60eda78",
   "metadata": {},
   "outputs": [],
   "source": []
  }
 ],
 "metadata": {
  "kernelspec": {
   "display_name": "py38kernel",
   "language": "python",
   "name": "py38-kernel"
  },
  "language_info": {
   "codemirror_mode": {
    "name": "ipython",
    "version": 3
   },
   "file_extension": ".py",
   "mimetype": "text/x-python",
   "name": "python",
   "nbconvert_exporter": "python",
   "pygments_lexer": "ipython3",
   "version": "3.8.18"
  }
 },
 "nbformat": 4,
 "nbformat_minor": 5
}
