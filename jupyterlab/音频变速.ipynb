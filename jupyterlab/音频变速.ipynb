{
 "cells": [
  {
   "cell_type": "code",
   "execution_count": 3,
   "id": "39e6c0d2-53b7-4067-98f8-9e3de973628c",
   "metadata": {},
   "outputs": [],
   "source": [
    "import librosa\n",
    "import soundfile as sf\n",
    "import numpy as np\n",
    "import os\n",
    "\n",
    "def change_speed(input_folder, output_folder, speed_factor=0.5):\n",
    "    # 确保输出文件夹存在\n",
    "    if not os.path.exists(output_folder):\n",
    "        os.makedirs(output_folder)\n",
    "    \n",
    "    # 遍历输入文件夹中的所有.wav文件\n",
    "    for file_name in os.listdir(input_folder):\n",
    "        if file_name.endswith('.wav'):\n",
    "            file_path = os.path.join(input_folder, file_name)\n",
    "            # 读取音频\n",
    "            y, sr = librosa.load(file_path, sr=None)\n",
    "            # 改变音频速度 - 注意，这种方法会改变音调\n",
    "            y_changed = np.interp(np.arange(0, len(y), speed_factor), np.arange(0, len(y)), y)\n",
    "            # 构造输出文件路径\n",
    "            output_file_path = os.path.join(output_folder, file_name)\n",
    "            # 保存处理后的音频文件\n",
    "            sf.write(output_file_path, y_changed, sr)\n",
    "\n",
    "# 示例用法\n",
    "input_folder = '1data/111/wusiyuan'  # 替换为你的输入文件夹路径\n",
    "output_folder = '1data/111/speed'  # 替换为你想要保存处理后音频的文件夹路径\n",
    "change_speed(input_folder, output_folder)"
   ]
  },
  {
   "cell_type": "code",
   "execution_count": 5,
   "id": "82cfb714-31f3-450b-b249-78ffb883cd9a",
   "metadata": {},
   "outputs": [],
   "source": [
    "from pydub import AudioSegment\n",
    "import os\n",
    "\n",
    "def change_speed_with_pydub(input_folder, output_folder, speed_factor=0.5):\n",
    "    # 确保输出文件夹存在\n",
    "    if not os.path.exists(output_folder):\n",
    "        os.makedirs(output_folder)\n",
    "    \n",
    "    # 遍历输入文件夹中的所有.wav文件\n",
    "    for file_name in os.listdir(input_folder):\n",
    "        if file_name.endswith('.wav'):\n",
    "            file_path = os.path.join(input_folder, file_name)\n",
    "            # 加载音频\n",
    "            audio = AudioSegment.from_wav(file_path)\n",
    "            # 改变音频速度\n",
    "            playback_speed = 1 / speed_factor\n",
    "            audio_with_changed_speed = audio._spawn(audio.raw_data, overrides={\n",
    "                \"frame_rate\": int(audio.frame_rate * playback_speed)\n",
    "            }).set_frame_rate(audio.frame_rate)\n",
    "            # 构造输出文件路径\n",
    "            output_file_path = os.path.join(output_folder, file_name)\n",
    "            # 保存处理后的音频文件\n",
    "            audio_with_changed_speed.export(output_file_path, format=\"wav\")\n",
    "\n",
    "input_folder = '1data/111/wusiyuan'  # 替换为你的输入文件夹路径\n",
    "output_folder = '1data/111/speed'  # 替换为你想要保存处理后音频的文件夹路径\n",
    "change_speed_with_pydub(input_folder, output_folder)\n"
   ]
  }
 ],
 "metadata": {
  "kernelspec": {
   "display_name": "py38kernel",
   "language": "python",
   "name": "py38-kernel"
  },
  "language_info": {
   "codemirror_mode": {
    "name": "ipython",
    "version": 3
   },
   "file_extension": ".py",
   "mimetype": "text/x-python",
   "name": "python",
   "nbconvert_exporter": "python",
   "pygments_lexer": "ipython3",
   "version": "3.8.18"
  }
 },
 "nbformat": 4,
 "nbformat_minor": 5
}
